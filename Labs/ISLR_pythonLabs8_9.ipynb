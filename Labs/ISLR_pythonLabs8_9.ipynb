{
 "cells": [
  {
   "cell_type": "code",
   "execution_count": 1,
   "metadata": {},
   "outputs": [],
   "source": [
    "import pandas as pd\n",
    "import numpy as np\n",
    "import matplotlib as mpl\n",
    "import matplotlib.pyplot as plt"
   ]
  },
  {
   "cell_type": "markdown",
   "metadata": {},
   "source": [
    "2. (45 points total) We have seen that we can fit an SVM with a non-linear kernel in order\n",
    "to perform classification using a non-linear decision boundary.We will now see that we\n",
    "can also obtain a non-linear decision boundary by performing logistic regression using\n",
    "non-linear transformations of the features"
   ]
  },
  {
   "cell_type": "markdown",
   "metadata": {},
   "source": [
    "(a) (5 points) Generate a data set with n = 500 and p = 2, such that the observations\n",
    "belong to two classes with a quadratic decision boundary between them. For\n",
    "instance, you can do this as follows:\n",
    "> x1=runif (500) -0.5\n",
    "> x2=runif (500) -0.5\n",
    "> y = 1*( x1b2-x2b2 > 0)"
   ]
  },
  {
   "cell_type": "code",
   "execution_count": 102,
   "metadata": {},
   "outputs": [],
   "source": [
    "np.random.seed(8)"
   ]
  },
  {
   "cell_type": "code",
   "execution_count": 103,
   "metadata": {},
   "outputs": [],
   "source": [
    "x1 = np.random.random((500,)) -0.5"
   ]
  },
  {
   "cell_type": "code",
   "execution_count": 104,
   "metadata": {
    "scrolled": true
   },
   "outputs": [
    {
     "data": {
      "text/plain": [
       "array([ 0.3734294 ,  0.46854066,  0.36919454,  0.03085569, -0.26727167,\n",
       "       -0.4886012 , -0.06953118, -0.09764864,  0.02267467, -0.0216082 ,\n",
       "        0.05535647,  0.04338602,  0.26089558,  0.21237457,  0.1196821 ,\n",
       "       -0.07390823, -0.21092497,  0.47385524, -0.16622595, -0.28119894,\n",
       "       -0.43419161,  0.48287055, -0.37214429, -0.17786921, -0.42905716,\n",
       "       -0.27523006, -0.10636509,  0.396145  , -0.15453839,  0.48474944,\n",
       "       -0.47126795, -0.14831526, -0.11904111,  0.26416013,  0.43880391,\n",
       "       -0.1803102 , -0.06752407, -0.22985426,  0.30105589,  0.13823881,\n",
       "       -0.43130987,  0.10364448,  0.29557456, -0.46799184, -0.04455218,\n",
       "        0.29017254,  0.48859652,  0.08396454, -0.4610877 , -0.05357709,\n",
       "       -0.31182748,  0.12705565, -0.2846822 , -0.34902989,  0.03614431,\n",
       "       -0.39961321,  0.23115843,  0.43965104,  0.44331818, -0.12526149,\n",
       "        0.09575025,  0.16198271,  0.01058046, -0.02910742, -0.49112771,\n",
       "       -0.4321036 , -0.06518377, -0.06850637, -0.31411631,  0.02970532,\n",
       "        0.09908625,  0.22092447, -0.19360414, -0.09560454,  0.32278242,\n",
       "        0.08713035,  0.20651554,  0.01058225,  0.33006166,  0.22067801,\n",
       "        0.36626168, -0.29659023, -0.20146515, -0.02419598, -0.0063955 ,\n",
       "        0.10767613,  0.31893558,  0.02772384,  0.43920414,  0.22338341,\n",
       "       -0.32124298,  0.11972542,  0.06228338,  0.26340461,  0.30664634,\n",
       "       -0.2013748 , -0.36161529,  0.13539791, -0.49169163,  0.28858326,\n",
       "        0.00207739,  0.49711866,  0.48404065, -0.27292137,  0.34995729,\n",
       "        0.31281754, -0.26386563,  0.15685329,  0.477171  ,  0.23156851,\n",
       "       -0.40437164,  0.00060611, -0.03763992, -0.49925611,  0.48893894,\n",
       "        0.37761994, -0.28278885,  0.1053775 , -0.02804688, -0.14089109,\n",
       "        0.02929245,  0.06482311,  0.333549  , -0.43718668,  0.10636662,\n",
       "        0.00361274, -0.33970131, -0.35455452,  0.13784086,  0.38290614,\n",
       "       -0.46713419, -0.0719781 ,  0.37789307, -0.02349292, -0.13242946,\n",
       "       -0.25934975, -0.45176822, -0.32483322,  0.05677543,  0.03008548,\n",
       "        0.04422155, -0.20094725,  0.36542403,  0.34694654, -0.03429963,\n",
       "        0.2513582 ,  0.28357067, -0.13190315, -0.3226869 , -0.2471295 ,\n",
       "       -0.26290894, -0.10810444, -0.49279359, -0.21910915,  0.03707012,\n",
       "       -0.0769407 ,  0.03182632,  0.24007736,  0.43121544, -0.17400295,\n",
       "       -0.22942648, -0.02377609,  0.10961621, -0.31274957, -0.47200463,\n",
       "       -0.29600645, -0.25489544, -0.06366944,  0.13092924, -0.19857638,\n",
       "        0.47550671,  0.37114834,  0.12073203, -0.16211293, -0.3302684 ,\n",
       "        0.15973015,  0.21544907, -0.43389928,  0.27511621,  0.38862881,\n",
       "        0.13222377,  0.20335252,  0.36344422,  0.44872391, -0.14812358,\n",
       "       -0.4407982 , -0.18904491, -0.32914902, -0.12595126,  0.00397103,\n",
       "        0.2904919 ,  0.4524819 , -0.21017917,  0.45201409, -0.31595573,\n",
       "       -0.05993865, -0.31750052, -0.23934903, -0.4827931 , -0.25372038,\n",
       "       -0.11348811, -0.00283195, -0.19645852, -0.48695894,  0.37685013,\n",
       "       -0.26390493, -0.28109852, -0.4958348 , -0.23996906, -0.2250075 ,\n",
       "        0.07342146,  0.02040659,  0.29922976,  0.27834451,  0.43007874,\n",
       "        0.02570993,  0.43495726,  0.31636496, -0.31085021,  0.19749514,\n",
       "        0.4149716 ,  0.40305144,  0.36170104,  0.1476364 ,  0.46004263,\n",
       "       -0.24998323,  0.197374  , -0.3763682 ,  0.16276752,  0.20964082,\n",
       "        0.17198438, -0.00184961, -0.08859896,  0.36667919, -0.0302513 ,\n",
       "       -0.18217823, -0.45286285,  0.15912317,  0.25556783,  0.00387305,\n",
       "        0.22946693,  0.13968871,  0.00218374, -0.31170758, -0.14278835,\n",
       "        0.22972236,  0.25056426, -0.44687271, -0.07186415,  0.10907041,\n",
       "        0.23228085, -0.10083239,  0.04442394, -0.12145555, -0.15991834,\n",
       "       -0.17377651,  0.32062627, -0.4226342 , -0.46363404,  0.18506823,\n",
       "       -0.13700615,  0.44037034, -0.32948201, -0.08833397, -0.10143144,\n",
       "        0.01057346, -0.34309072,  0.48266621,  0.13275257,  0.42966886,\n",
       "        0.13970549,  0.13589813,  0.10099903, -0.25378428, -0.21331985,\n",
       "       -0.33316725,  0.20751981,  0.35613822, -0.28055406, -0.4379167 ,\n",
       "       -0.09654155,  0.46571044, -0.35537225,  0.05547391,  0.27659425,\n",
       "       -0.30509058, -0.15125949, -0.27732656, -0.03307158,  0.4351379 ,\n",
       "        0.13121918, -0.38946549, -0.15722725,  0.20375281,  0.49452843,\n",
       "       -0.1379985 ,  0.01895523, -0.27616974, -0.15252998, -0.36708093,\n",
       "       -0.31556782, -0.20108869, -0.45141845, -0.22220121, -0.41689038,\n",
       "       -0.47085317,  0.46462258, -0.17360278,  0.18850576, -0.22028464,\n",
       "       -0.05972068,  0.31928273,  0.29346726,  0.02602773, -0.14616846,\n",
       "       -0.17479549,  0.38307342, -0.38804493, -0.11718749, -0.45924023,\n",
       "        0.13417516,  0.44218061,  0.06890045, -0.1367743 , -0.18709642,\n",
       "        0.2030759 , -0.35248422,  0.22110293, -0.3370478 , -0.22063763,\n",
       "        0.47217911, -0.16883572,  0.46113469,  0.39920259, -0.31110039,\n",
       "       -0.46484202, -0.12593986,  0.19270546,  0.45049218, -0.14214811,\n",
       "       -0.13137789, -0.3613409 ,  0.25651257, -0.03167744, -0.0184238 ,\n",
       "       -0.31214553, -0.44557783,  0.18653247, -0.01697741,  0.32735106,\n",
       "       -0.47222393,  0.33262745,  0.33941883, -0.22268904, -0.16957784,\n",
       "        0.22589906,  0.23811777,  0.29465923, -0.41601763, -0.0437827 ,\n",
       "        0.35077879,  0.4892021 ,  0.22363391,  0.30819129, -0.38766476,\n",
       "        0.47989386, -0.1745772 , -0.32188518,  0.17021539, -0.49340476,\n",
       "       -0.0782228 ,  0.19642625, -0.49545092, -0.17589982, -0.35735505,\n",
       "       -0.38043631,  0.43930568, -0.4255234 , -0.02537563, -0.16345066,\n",
       "        0.43285012,  0.08263772,  0.17971291, -0.0376707 ,  0.16583957,\n",
       "       -0.43572834,  0.02493854,  0.36890064,  0.02890383, -0.0985438 ,\n",
       "       -0.41003396,  0.1527765 ,  0.18422397,  0.1983892 , -0.25346167,\n",
       "       -0.0922259 , -0.02282004, -0.2175832 , -0.10819724, -0.44258435,\n",
       "       -0.00062034, -0.08232428, -0.09754544, -0.30690109, -0.0021934 ,\n",
       "        0.14801503,  0.13311271,  0.35437028, -0.48111051, -0.29884852,\n",
       "        0.08537814,  0.42912711,  0.36707408, -0.04938027,  0.4901163 ,\n",
       "       -0.35710869, -0.18709453, -0.49907221, -0.13064439, -0.26717276,\n",
       "       -0.24017939,  0.46397326, -0.15370897, -0.49517526,  0.14977529,\n",
       "        0.44137026,  0.0060043 ,  0.17516355,  0.4788778 , -0.07187271,\n",
       "        0.26695405, -0.42957453,  0.11540552, -0.11473394,  0.39598281,\n",
       "       -0.1903287 , -0.22917183, -0.1369578 , -0.46892637, -0.15213492,\n",
       "       -0.29953256,  0.31578112, -0.3988824 , -0.46850434,  0.00626311,\n",
       "        0.10596155, -0.01844111, -0.35973192,  0.03326568,  0.30531931,\n",
       "        0.35105848,  0.39061715,  0.28766669,  0.44402188, -0.17393363,\n",
       "       -0.3244772 ,  0.2225858 ,  0.11503354, -0.48167326,  0.38082775,\n",
       "        0.22936732, -0.12235922,  0.14439834, -0.05339049, -0.32545204,\n",
       "       -0.06435602, -0.0874467 , -0.48180327, -0.49882154,  0.25110734,\n",
       "        0.2700055 ,  0.1898149 , -0.31359094,  0.17913322, -0.46816751,\n",
       "        0.38187383, -0.47342997,  0.0920739 , -0.4639768 ,  0.11811852,\n",
       "       -0.47722346,  0.16870105,  0.07783855, -0.02345935, -0.20390203,\n",
       "       -0.04066516,  0.32179705, -0.12822001, -0.34581066,  0.1830843 ,\n",
       "        0.1023046 ,  0.04667872, -0.00162584, -0.29765752,  0.26069876,\n",
       "        0.15401883,  0.37258911,  0.118078  ,  0.16827249, -0.12555118])"
      ]
     },
     "execution_count": 104,
     "metadata": {},
     "output_type": "execute_result"
    }
   ],
   "source": [
    "x1"
   ]
  },
  {
   "cell_type": "code",
   "execution_count": 105,
   "metadata": {},
   "outputs": [],
   "source": [
    "x2 = np.random.random((500,)) -0.5"
   ]
  },
  {
   "cell_type": "code",
   "execution_count": 106,
   "metadata": {},
   "outputs": [],
   "source": [
    "y = 1*(x1**2 - x2**2 > 0)"
   ]
  },
  {
   "cell_type": "code",
   "execution_count": 80,
   "metadata": {},
   "outputs": [
    {
     "data": {
      "text/plain": [
       "array([1, 0, 0, 1, 0, 1, 1, 1, 0, 0, 1, 0, 1, 0, 1, 1, 0, 0, 1, 1, 1, 1,\n",
       "       1, 0, 1, 1, 0, 1, 1, 0, 0, 0, 1, 1, 1, 0, 1, 1, 0, 0, 1, 0, 0, 1,\n",
       "       0, 0, 0, 0, 1, 1, 1, 1, 1, 0, 0, 0, 1, 1, 0, 1, 1, 0, 0, 1, 1, 1,\n",
       "       1, 0, 0, 0, 1, 1, 0, 0, 1, 1, 1, 1, 0, 1, 0, 1, 1, 1, 0, 0, 0, 1,\n",
       "       0, 1, 0, 1, 0, 0, 1, 1, 0, 1, 0, 1, 0, 0, 0, 0, 0, 0, 0, 1, 1, 1,\n",
       "       0, 1, 0, 1, 0, 1, 0, 0, 0, 1, 0, 1, 0, 0, 1, 1, 1, 1, 0, 1, 0, 1,\n",
       "       0, 0, 0, 0, 0, 1, 1, 0, 1, 0, 1, 1, 0, 0, 1, 1, 1, 0, 1, 0, 0, 0,\n",
       "       0, 1, 0, 0, 0, 0, 0, 0, 1, 1, 1, 0, 1, 1, 1, 1, 1, 0, 0, 0, 0, 0,\n",
       "       0, 0, 1, 1, 1, 0, 1, 1, 0, 0, 0, 0, 0, 1, 1, 0, 0, 1, 1, 0, 1, 1,\n",
       "       0, 0, 1, 0, 1, 0, 1, 0, 0, 1, 0, 1, 1, 0, 0, 0, 1, 1, 1, 0, 0, 0,\n",
       "       1, 0, 1, 1, 0, 0, 0, 1, 1, 0, 1, 0, 0, 1, 0, 1, 1, 0, 0, 1, 0, 1,\n",
       "       1, 1, 0, 0, 0, 0, 0, 0, 1, 1, 1, 0, 1, 0, 0, 1, 1, 1, 1, 1, 0, 0,\n",
       "       0, 1, 1, 0, 1, 1, 1, 1, 1, 0, 0, 0, 0, 1, 0, 0, 0, 1, 1, 0, 0, 1,\n",
       "       1, 0, 0, 0, 1, 0, 0, 1, 0, 1, 1, 0, 0, 0, 1, 1, 0, 0, 0, 0, 1, 0,\n",
       "       1, 1, 1, 1, 1, 0, 1, 1, 1, 0, 1, 1, 1, 1, 0, 1, 0, 1, 1, 1, 1, 1,\n",
       "       0, 1, 0, 1, 0, 0, 0, 1, 0, 0, 0, 1, 0, 0, 0, 0, 1, 1, 0, 0, 1, 1,\n",
       "       0, 0, 1, 1, 1, 1, 0, 1, 1, 0, 0, 1, 1, 0, 1, 0, 0, 0, 1, 0, 0, 0,\n",
       "       1, 0, 0, 1, 0, 0, 1, 1, 0, 0, 1, 0, 0, 1, 0, 0, 0, 0, 1, 0, 1, 0,\n",
       "       0, 1, 1, 1, 0, 0, 1, 1, 0, 0, 0, 0, 0, 0, 1, 0, 1, 0, 0, 0, 1, 1,\n",
       "       0, 0, 1, 1, 0, 0, 1, 0, 0, 0, 0, 1, 0, 1, 0, 0, 0, 0, 0, 0, 1, 1,\n",
       "       0, 1, 1, 0, 0, 0, 1, 1, 0, 1, 1, 1, 1, 1, 1, 1, 0, 0, 0, 0, 0, 0,\n",
       "       0, 0, 1, 0, 0, 0, 0, 1, 0, 0, 1, 0, 0, 0, 1, 1, 0, 1, 0, 0, 0, 0,\n",
       "       1, 0, 0, 0, 1, 0, 0, 0, 0, 1, 0, 1, 0, 0, 0, 1])"
      ]
     },
     "execution_count": 80,
     "metadata": {},
     "output_type": "execute_result"
    }
   ],
   "source": [
    "y"
   ]
  },
  {
   "cell_type": "markdown",
   "metadata": {},
   "source": [
    "(b) (5 points) Plot the observations, colored according to their class labels. Your plot\n",
    "should display X1 on the x-axis, and X2 on the yaxis."
   ]
  },
  {
   "cell_type": "code",
   "execution_count": 107,
   "metadata": {},
   "outputs": [],
   "source": [
    "df = pd.DataFrame()\n",
    "df['x1'] = x1\n",
    "df['x2'] = x2\n",
    "df['y'] = y"
   ]
  },
  {
   "cell_type": "code",
   "execution_count": 110,
   "metadata": {},
   "outputs": [
    {
     "data": {
      "text/plain": [
       "Text(0,0.5,'x2')"
      ]
     },
     "execution_count": 110,
     "metadata": {},
     "output_type": "execute_result"
    },
    {
     "data": {
      "image/png": "[encoded data removed]",
      "text/plain": [
       "<Figure size 432x288 with 1 Axes>"
      ]
     },
     "metadata": {},
     "output_type": "display_data"
    }
   ],
   "source": [
    "plt.scatter(x1, x2, s=70, c=y, cmap=mpl.cm.Paired)\n",
    "plt.xlabel('x1')\n",
    "plt.ylabel('x2')"
   ]
  },
  {
   "cell_type": "markdown",
   "metadata": {},
   "source": [
    "(c) (5 points) Fit a logistic regression model to the data, using X1 and X2 as predictors."
   ]
  },
  {
   "cell_type": "code",
   "execution_count": 83,
   "metadata": {},
   "outputs": [],
   "source": [
    "import sklearn.linear_model as lm\n",
    "from sklearn.metrics import confusion_matrix, classification_report, precision_score\n",
    "from sklearn.model_selection import train_test_split"
   ]
  },
  {
   "cell_type": "code",
   "execution_count": 111,
   "metadata": {},
   "outputs": [],
   "source": [
    "x = df[['x1', 'x2']]\n",
    "y = df['y']\n",
    "\n",
    "model = lm.LogisticRegression()\n",
    "ynew = model.fit(x, y).predict(x)"
   ]
  },
  {
   "cell_type": "markdown",
   "metadata": {},
   "source": [
    "(d) (5 points) Apply this model to the training data in order to obtain a predicted\n",
    "class label for each training observation. Plot the observations, colored according\n",
    "to the predicted class labels. The decision boundary should be linear."
   ]
  },
  {
   "cell_type": "code",
   "execution_count": 112,
   "metadata": {},
   "outputs": [
    {
     "data": {
      "text/plain": [
       "Text(0,0.5,'x2')"
      ]
     },
     "execution_count": 112,
     "metadata": {},
     "output_type": "execute_result"
    },
    {
     "data": {
      "image/png": "[encoded data removed]",
      "text/plain": [
       "<Figure size 432x288 with 1 Axes>"
      ]
     },
     "metadata": {},
     "output_type": "display_data"
    }
   ],
   "source": [
    "plt.scatter(x1, x2, s=70, c=ynew, cmap=mpl.cm.Paired)\n",
    "plt.xlabel('x1')\n",
    "plt.ylabel('x2')"
   ]
  },
  {
   "cell_type": "markdown",
   "metadata": {},
   "source": [
    "(e) (5 points) Now fit a logistic regression model to the data using non-linear functions\n",
    "of X1 and X2 as predictors (e.g. X2\n",
    "1\n",
    ", X1 × X2, log(X2), and so forth)."
   ]
  },
  {
   "cell_type": "code",
   "execution_count": 113,
   "metadata": {},
   "outputs": [],
   "source": [
    "df['x1no'] = df.x1 + df.x1**2"
   ]
  },
  {
   "cell_type": "code",
   "execution_count": 114,
   "metadata": {},
   "outputs": [],
   "source": [
    "df['x2no'] = df.x2 + df.x2**2"
   ]
  },
  {
   "cell_type": "code",
   "execution_count": 115,
   "metadata": {},
   "outputs": [],
   "source": [
    "x = df[['x1no', 'x2no']]\n",
    "y = df['y']\n",
    "model = lm.LogisticRegression()\n",
    "ynew = model.fit(x, y).predict(x)"
   ]
  },
  {
   "cell_type": "markdown",
   "metadata": {},
   "source": [
    "(f) (5 points) Apply this model to the training data in order to obtain a predicted\n",
    "class label for each training observation. Plot the observations, colored according\n",
    "to the predicted class labels. The decision boundary should be obviously nonlinear.\n",
    "If it is not, then repeat (a)-(e) until you come up with an example in\n",
    "which the predicted class labels are obviously non-linear."
   ]
  },
  {
   "cell_type": "code",
   "execution_count": 116,
   "metadata": {},
   "outputs": [
    {
     "data": {
      "text/plain": [
       "Text(0,0.5,'x2')"
      ]
     },
     "execution_count": 116,
     "metadata": {},
     "output_type": "execute_result"
    },
    {
     "data": {
      "image/png": "[encoded data removed]",
      "text/plain": [
       "<Figure size 432x288 with 1 Axes>"
      ]
     },
     "metadata": {},
     "output_type": "display_data"
    }
   ],
   "source": [
    "plt.scatter(x1, x2, s=70, c=ynew, cmap=mpl.cm.Paired)\n",
    "plt.xlabel('x1')\n",
    "plt.ylabel('x2')"
   ]
  },
  {
   "cell_type": "code",
   "execution_count": 117,
   "metadata": {},
   "outputs": [],
   "source": [
    "df['x3'] = df.x1 * df.x2"
   ]
  },
  {
   "cell_type": "code",
   "execution_count": 118,
   "metadata": {},
   "outputs": [],
   "source": [
    "x = df[['x1no', 'x2no', 'x3']]\n",
    "y = df['y']\n",
    "model = lm.LogisticRegression()\n",
    "ynew = model.fit(x, y).predict(x)"
   ]
  },
  {
   "cell_type": "code",
   "execution_count": 119,
   "metadata": {},
   "outputs": [
    {
     "data": {
      "text/plain": [
       "Text(0,0.5,'x2')"
      ]
     },
     "execution_count": 119,
     "metadata": {},
     "output_type": "execute_result"
    },
    {
     "data": {
      "image/png": "[encoded data removed]",
      "text/plain": [
       "<Figure size 432x288 with 1 Axes>"
      ]
     },
     "metadata": {},
     "output_type": "display_data"
    }
   ],
   "source": [
    "plt.scatter(x1, x2, s=70, c=ynew, cmap=mpl.cm.Paired)\n",
    "plt.xlabel('x1')\n",
    "plt.ylabel('x2')"
   ]
  },
  {
   "cell_type": "markdown",
   "metadata": {},
   "source": [
    "This model is obviously non-linear but does not fit data well"
   ]
  },
  {
   "cell_type": "markdown",
   "metadata": {},
   "source": [
    "(g) (5 points) Fit a support vector classifier to the data with X1 and X2 as predictors.\n",
    "Obtain a class prediction for each training observation. Plot the observations,\n",
    "colored according to the predicted class labels."
   ]
  },
  {
   "cell_type": "code",
   "execution_count": 82,
   "metadata": {},
   "outputs": [],
   "source": [
    "from sklearn.svm import SVC"
   ]
  },
  {
   "cell_type": "code",
   "execution_count": 120,
   "metadata": {},
   "outputs": [],
   "source": [
    "x = df[['x1', 'x2']]\n",
    "y = df['y']\n",
    "\n",
    "svm = SVC(C=1, kernel='linear')\n",
    "ynew = svm.fit(x, y).predict(x)"
   ]
  },
  {
   "cell_type": "code",
   "execution_count": 121,
   "metadata": {},
   "outputs": [
    {
     "data": {
      "text/plain": [
       "Text(0,0.5,'x2')"
      ]
     },
     "execution_count": 121,
     "metadata": {},
     "output_type": "execute_result"
    },
    {
     "data": {
      "image/png": "[encoded data removed]",
      "text/plain": [
       "<Figure size 432x288 with 1 Axes>"
      ]
     },
     "metadata": {},
     "output_type": "display_data"
    }
   ],
   "source": [
    "plt.scatter(x1, x2, s=70, c=ynew, cmap=mpl.cm.Paired)\n",
    "plt.xlabel('x1')\n",
    "plt.ylabel('x2')"
   ]
  },
  {
   "cell_type": "markdown",
   "metadata": {},
   "source": [
    "(h) (5 points) Fit a SVM using a non-linear kernel to the data. Obtain a class\n",
    "prediction for each training observation. Plot the observations, colored according\n",
    "to the predicted class labels."
   ]
  },
  {
   "cell_type": "code",
   "execution_count": 122,
   "metadata": {},
   "outputs": [],
   "source": [
    "x = df[['x1', 'x2']]\n",
    "y = df['y']\n",
    "\n",
    "svm = SVC(C=1.0, kernel='poly', degree=2, gamma=1)\n",
    "ynew = svm.fit(x, y).predict(x)"
   ]
  },
  {
   "cell_type": "code",
   "execution_count": 123,
   "metadata": {},
   "outputs": [
    {
     "data": {
      "text/plain": [
       "Text(0,0.5,'x2')"
      ]
     },
     "execution_count": 123,
     "metadata": {},
     "output_type": "execute_result"
    },
    {
     "data": {
      "image/png": "[encoded data removed]",
      "text/plain": [
       "<Figure size 432x288 with 1 Axes>"
      ]
     },
     "metadata": {},
     "output_type": "display_data"
    }
   ],
   "source": [
    "plt.scatter(x1, x2, s=70, c=ynew, cmap=mpl.cm.Paired)\n",
    "plt.xlabel('x1')\n",
    "plt.ylabel('x2')"
   ]
  },
  {
   "cell_type": "markdown",
   "metadata": {},
   "source": [
    "(i) (5 points) Comment on your results."
   ]
  },
  {
   "cell_type": "markdown",
   "metadata": {},
   "source": [
    "The polynomial fit with degree 2 was able to adequately model the data"
   ]
  },
  {
   "cell_type": "markdown",
   "metadata": {},
   "source": [
    "3. (20 points total) At the end of Section 9.6.1, it is claimed that in the case of data that is\n",
    "just barely linearly separable, a support vector classifier with a small value of cost that\n",
    "misclassifies a couple of training observations may perform better on test data than\n",
    "one with a huge value of cost that does not misclassify any training observations. You\n",
    "will now investigate this claim."
   ]
  },
  {
   "cell_type": "markdown",
   "metadata": {},
   "source": [
    "(a) (5 points) Generate two-class data with p = 2 in such a way that the classes are\n",
    "just barely linearly separable."
   ]
  },
  {
   "cell_type": "code",
   "execution_count": 124,
   "metadata": {},
   "outputs": [],
   "source": [
    "# Generating random data: 20 observations of 2 features and divide into two classes.\n",
    "np.random.seed(5)\n",
    "X = np.random.randn(50,2)\n",
    "y = np.repeat([1,-1], 10)\n",
    "\n",
    "X[y == -1] = X[y == -1] +1"
   ]
  },
  {
   "cell_type": "code",
   "execution_count": 255,
   "metadata": {},
   "outputs": [],
   "source": [
    "np.random.seed(1)\n",
    "X = np.random.randn(35,2)\n",
    "y = np.random.choice([-1,1], 35)\n",
    "X[y == 1] = X[y == 1] -1"
   ]
  },
  {
   "cell_type": "code",
   "execution_count": 256,
   "metadata": {},
   "outputs": [
    {
     "data": {
      "text/plain": [
       "Text(0,0.5,'X2')"
      ]
     },
     "execution_count": 256,
     "metadata": {},
     "output_type": "execute_result"
    },
    {
     "data": {
      "image/png": "[encoded data removed]",
      "text/plain": [
       "<Figure size 432x288 with 1 Axes>"
      ]
     },
     "metadata": {},
     "output_type": "display_data"
    }
   ],
   "source": [
    "X[y == 1] = X[y == 1] -1\n",
    "plt.scatter(X[:,0], X[:,1], s=70, c=y, cmap=mpl.cm.Paired)\n",
    "plt.xlabel('X1')\n",
    "plt.ylabel('X2')"
   ]
  },
  {
   "cell_type": "markdown",
   "metadata": {},
   "source": [
    "(b) (5 points) Compute the cross-validation error rates for support vector classifiers\n",
    "with a range of cost values. How many training errors are misclassified for each\n",
    "value of cost considered, and how does this relate to the cross-validation errors\n",
    "obtained?"
   ]
  },
  {
   "cell_type": "code",
   "execution_count": 257,
   "metadata": {},
   "outputs": [
    {
     "data": {
      "text/plain": [
       "GridSearchCV(cv=10, error_score='raise',\n",
       "       estimator=SVC(C=1.0, cache_size=200, class_weight=None, coef0=0.0,\n",
       "  decision_function_shape='ovr', degree=3, gamma='auto', kernel='linear',\n",
       "  max_iter=-1, probability=False, random_state=None, shrinking=True,\n",
       "  tol=0.001, verbose=False),\n",
       "       fit_params=None, iid=True, n_jobs=1,\n",
       "       param_grid=[{'C': [0.001, 0.01, 0.1, 1, 5, 10, 100]}],\n",
       "       pre_dispatch='2*n_jobs', refit=True, return_train_score=True,\n",
       "       scoring='accuracy', verbose=0)"
      ]
     },
     "execution_count": 257,
     "metadata": {},
     "output_type": "execute_result"
    }
   ],
   "source": [
    "from sklearn.model_selection import GridSearchCV\n",
    "\n",
    "# Select the optimal C parameter by cross-validation\n",
    "tuned_parameters = [{'C': [0.001, 0.01, 0.1, 1, 5, 10, 100]}]\n",
    "clf = GridSearchCV(SVC(kernel='linear'), tuned_parameters, cv=10, scoring='accuracy', return_train_score=True)\n",
    "clf.fit(X, y)"
   ]
  },
  {
   "cell_type": "code",
   "execution_count": 258,
   "metadata": {},
   "outputs": [
    {
     "data": {
      "text/plain": [
       "{'mean_fit_time': array([0.0004262 , 0.00044439, 0.00037103, 0.00032163, 0.00028591,\n",
       "        0.0002691 , 0.00026114]),\n",
       " 'std_fit_time': array([7.44413059e-05, 1.19348800e-04, 3.43618663e-05, 3.28453936e-05,\n",
       "        5.53288109e-05, 4.50381531e-05, 3.02752263e-05]),\n",
       " 'mean_score_time': array([0.00029619, 0.00027416, 0.00024083, 0.00022993, 0.00022318,\n",
       "        0.00018396, 0.00017915]),\n",
       " 'std_score_time': array([1.17498813e-04, 4.22463258e-05, 1.22201791e-05, 3.00023424e-05,\n",
       "        9.87190229e-05, 5.75295682e-06, 1.55185406e-05]),\n",
       " 'param_C': masked_array(data=[0.001, 0.01, 0.1, 1, 5, 10, 100],\n",
       "              mask=[False, False, False, False, False, False, False],\n",
       "        fill_value='?',\n",
       "             dtype=object),\n",
       " 'params': [{'C': 0.001},\n",
       "  {'C': 0.01},\n",
       "  {'C': 0.1},\n",
       "  {'C': 1},\n",
       "  {'C': 5},\n",
       "  {'C': 10},\n",
       "  {'C': 100}],\n",
       " 'split0_test_score': array([0.5 , 1.  , 1.  , 1.  , 1.  , 1.  , 0.75]),\n",
       " 'split1_test_score': array([0.5, 1. , 1. , 1. , 1. , 1. , 1. ]),\n",
       " 'split2_test_score': array([0.5, 1. , 1. , 1. , 1. , 1. , 1. ]),\n",
       " 'split3_test_score': array([0.5, 1. , 1. , 1. , 1. , 1. , 1. ]),\n",
       " 'split4_test_score': array([0.5, 1. , 1. , 1. , 1. , 1. , 1. ]),\n",
       " 'split5_test_score': array([0.5, 1. , 1. , 1. , 1. , 1. , 1. ]),\n",
       " 'split6_test_score': array([0.5, 1. , 1. , 1. , 1. , 1. , 1. ]),\n",
       " 'split7_test_score': array([1., 1., 1., 1., 1., 1., 1.]),\n",
       " 'split8_test_score': array([0.5, 0.5, 0.5, 0.5, 0.5, 0.5, 0.5]),\n",
       " 'split9_test_score': array([0.5, 1. , 1. , 0.5, 0.5, 0.5, 0.5]),\n",
       " 'mean_test_score': array([0.54285714, 0.97142857, 0.97142857, 0.94285714, 0.94285714,\n",
       "        0.94285714, 0.91428571]),\n",
       " 'std_test_score': array([0.13997084, 0.11605769, 0.11605769, 0.15907898, 0.15907898,\n",
       "        0.15907898, 0.16842609]),\n",
       " 'rank_test_score': array([7, 1, 1, 3, 3, 3, 6], dtype=int32),\n",
       " 'split0_train_score': array([0.51612903, 0.96774194, 0.96774194, 0.96774194, 0.96774194,\n",
       "        0.96774194, 1.        ]),\n",
       " 'split1_train_score': array([0.51612903, 0.93548387, 0.96774194, 0.96774194, 0.96774194,\n",
       "        0.96774194, 1.        ]),\n",
       " 'split2_train_score': array([0.51612903, 0.96774194, 0.96774194, 0.96774194, 0.96774194,\n",
       "        0.96774194, 1.        ]),\n",
       " 'split3_train_score': array([0.51612903, 0.93548387, 0.96774194, 0.96774194, 0.96774194,\n",
       "        0.96774194, 1.        ]),\n",
       " 'split4_train_score': array([0.51612903, 0.96774194, 0.96774194, 0.96774194, 0.96774194,\n",
       "        0.96774194, 1.        ]),\n",
       " 'split5_train_score': array([0.51612903, 0.96774194, 0.96774194, 0.96774194, 0.96774194,\n",
       "        0.96774194, 1.        ]),\n",
       " 'split6_train_score': array([0.51612903, 0.96774194, 0.96774194, 0.96774194, 0.96774194,\n",
       "        0.96774194, 1.        ]),\n",
       " 'split7_train_score': array([0.96875, 0.96875, 0.96875, 0.96875, 0.96875, 0.96875, 1.     ]),\n",
       " 'split8_train_score': array([0.51515152, 1.        , 1.        , 1.        , 1.        ,\n",
       "        1.        , 1.        ]),\n",
       " 'split9_train_score': array([0.51515152, 0.96969697, 0.96969697, 0.96969697, 0.96969697,\n",
       "        0.96969697, 1.        ]),\n",
       " 'mean_train_score': array([0.56119563, 0.96481244, 0.97126405, 0.97126405, 0.97126405,\n",
       "        0.97126405, 1.        ]),\n",
       " 'std_train_score': array([0.13585201, 0.0174378 , 0.00959879, 0.00959879, 0.00959879,\n",
       "        0.00959879, 0.        ])}"
      ]
     },
     "execution_count": 258,
     "metadata": {},
     "output_type": "execute_result"
    }
   ],
   "source": [
    "clf.cv_results_"
   ]
  },
  {
   "cell_type": "code",
   "execution_count": 225,
   "metadata": {},
   "outputs": [
    {
     "data": {
      "text/plain": [
       "{'C': 0.01}"
      ]
     },
     "execution_count": 225,
     "metadata": {},
     "output_type": "execute_result"
    }
   ],
   "source": [
    "clf.best_params_"
   ]
  },
  {
   "cell_type": "markdown",
   "metadata": {},
   "source": [
    "This shows that while the higher cost values resulted in lower mean train scores, with 100 resulting in 100% classification. 0.01 and 0.1 actually resulted in the highest correct test classification rate."
   ]
  },
  {
   "cell_type": "markdown",
   "metadata": {},
   "source": [
    "(c) (5 points) Generate an appropriate test data set, and compute the test errors\n",
    "corresponding to each of the values of cost considered. Which value of cost\n",
    "leads to the fewest test errors, and how does this compare to the values of cost\n",
    "that yield the fewest training errors and the fewest cross-validation errors?"
   ]
  },
  {
   "cell_type": "code",
   "execution_count": 283,
   "metadata": {},
   "outputs": [
    {
     "data": {
      "text/plain": [
       "Text(0,0.5,'X2')"
      ]
     },
     "execution_count": 283,
     "metadata": {},
     "output_type": "execute_result"
    },
    {
     "data": {
      "image/png": "[encoded data removed]",
      "text/plain": [
       "<Figure size 432x288 with 1 Axes>"
      ]
     },
     "metadata": {},
     "output_type": "display_data"
    }
   ],
   "source": [
    "np.random.seed(1)\n",
    "X_test = np.random.randn(25,2)\n",
    "y_test = np.random.choice([-1,1], 25)\n",
    "X_test[y_test == 1] = X_test[y_test == 1] -1\n",
    "X_test[y_test == 1] = X_test[y_test == 1] -1\n",
    "plt.scatter(X_test[:,0], X_test[:,1], s=70, c=y_test, cmap=mpl.cm.Paired)\n",
    "plt.xlabel('X1')\n",
    "plt.ylabel('X2')"
   ]
  },
  {
   "cell_type": "code",
   "execution_count": 284,
   "metadata": {},
   "outputs": [
    {
     "data": {
      "text/html": [
       "<div>\n",
       "<style scoped>\n",
       "    .dataframe tbody tr th:only-of-type {\n",
       "        vertical-align: middle;\n",
       "    }\n",
       "\n",
       "    .dataframe tbody tr th {\n",
       "        vertical-align: top;\n",
       "    }\n",
       "\n",
       "    .dataframe thead th {\n",
       "        text-align: right;\n",
       "    }\n",
       "</style>\n",
       "<table border=\"1\" class=\"dataframe\">\n",
       "  <thead>\n",
       "    <tr style=\"text-align: right;\">\n",
       "      <th></th>\n",
       "      <th>-1</th>\n",
       "      <th>1</th>\n",
       "    </tr>\n",
       "  </thead>\n",
       "  <tbody>\n",
       "    <tr>\n",
       "      <th>-1</th>\n",
       "      <td>0</td>\n",
       "      <td>12</td>\n",
       "    </tr>\n",
       "    <tr>\n",
       "      <th>1</th>\n",
       "      <td>0</td>\n",
       "      <td>13</td>\n",
       "    </tr>\n",
       "  </tbody>\n",
       "</table>\n",
       "</div>"
      ],
      "text/plain": [
       "    -1   1\n",
       "-1   0  12\n",
       " 1   0  13"
      ]
     },
     "execution_count": 284,
     "metadata": {},
     "output_type": "execute_result"
    }
   ],
   "source": [
    "svc2 = SVC(C=0.001, kernel='linear')\n",
    "svc2.fit(X, y)\n",
    "y_pred = svc2.predict(X_test)\n",
    "pd.DataFrame(confusion_matrix(y_test, y_pred), index=svc2.classes_, columns=svc2.classes_)"
   ]
  },
  {
   "cell_type": "code",
   "execution_count": 285,
   "metadata": {},
   "outputs": [
    {
     "data": {
      "text/html": [
       "<div>\n",
       "<style scoped>\n",
       "    .dataframe tbody tr th:only-of-type {\n",
       "        vertical-align: middle;\n",
       "    }\n",
       "\n",
       "    .dataframe tbody tr th {\n",
       "        vertical-align: top;\n",
       "    }\n",
       "\n",
       "    .dataframe thead th {\n",
       "        text-align: right;\n",
       "    }\n",
       "</style>\n",
       "<table border=\"1\" class=\"dataframe\">\n",
       "  <thead>\n",
       "    <tr style=\"text-align: right;\">\n",
       "      <th></th>\n",
       "      <th>-1</th>\n",
       "      <th>1</th>\n",
       "    </tr>\n",
       "  </thead>\n",
       "  <tbody>\n",
       "    <tr>\n",
       "      <th>-1</th>\n",
       "      <td>12</td>\n",
       "      <td>0</td>\n",
       "    </tr>\n",
       "    <tr>\n",
       "      <th>1</th>\n",
       "      <td>0</td>\n",
       "      <td>13</td>\n",
       "    </tr>\n",
       "  </tbody>\n",
       "</table>\n",
       "</div>"
      ],
      "text/plain": [
       "    -1   1\n",
       "-1  12   0\n",
       " 1   0  13"
      ]
     },
     "execution_count": 285,
     "metadata": {},
     "output_type": "execute_result"
    }
   ],
   "source": [
    "svc2 = SVC(C=0.01, kernel='linear')\n",
    "svc2.fit(X, y)\n",
    "y_pred = svc2.predict(X_test)\n",
    "pd.DataFrame(confusion_matrix(y_test, y_pred), index=svc2.classes_, columns=svc2.classes_)"
   ]
  },
  {
   "cell_type": "code",
   "execution_count": 286,
   "metadata": {},
   "outputs": [
    {
     "data": {
      "text/html": [
       "<div>\n",
       "<style scoped>\n",
       "    .dataframe tbody tr th:only-of-type {\n",
       "        vertical-align: middle;\n",
       "    }\n",
       "\n",
       "    .dataframe tbody tr th {\n",
       "        vertical-align: top;\n",
       "    }\n",
       "\n",
       "    .dataframe thead th {\n",
       "        text-align: right;\n",
       "    }\n",
       "</style>\n",
       "<table border=\"1\" class=\"dataframe\">\n",
       "  <thead>\n",
       "    <tr style=\"text-align: right;\">\n",
       "      <th></th>\n",
       "      <th>-1</th>\n",
       "      <th>1</th>\n",
       "    </tr>\n",
       "  </thead>\n",
       "  <tbody>\n",
       "    <tr>\n",
       "      <th>-1</th>\n",
       "      <td>12</td>\n",
       "      <td>0</td>\n",
       "    </tr>\n",
       "    <tr>\n",
       "      <th>1</th>\n",
       "      <td>0</td>\n",
       "      <td>13</td>\n",
       "    </tr>\n",
       "  </tbody>\n",
       "</table>\n",
       "</div>"
      ],
      "text/plain": [
       "    -1   1\n",
       "-1  12   0\n",
       " 1   0  13"
      ]
     },
     "execution_count": 286,
     "metadata": {},
     "output_type": "execute_result"
    }
   ],
   "source": [
    "svc2 = SVC(C=0.1, kernel='linear')\n",
    "svc2.fit(X, y)\n",
    "y_pred = svc2.predict(X_test)\n",
    "pd.DataFrame(confusion_matrix(y_test, y_pred), index=svc2.classes_, columns=svc2.classes_)"
   ]
  },
  {
   "cell_type": "code",
   "execution_count": 287,
   "metadata": {},
   "outputs": [
    {
     "data": {
      "text/html": [
       "<div>\n",
       "<style scoped>\n",
       "    .dataframe tbody tr th:only-of-type {\n",
       "        vertical-align: middle;\n",
       "    }\n",
       "\n",
       "    .dataframe tbody tr th {\n",
       "        vertical-align: top;\n",
       "    }\n",
       "\n",
       "    .dataframe thead th {\n",
       "        text-align: right;\n",
       "    }\n",
       "</style>\n",
       "<table border=\"1\" class=\"dataframe\">\n",
       "  <thead>\n",
       "    <tr style=\"text-align: right;\">\n",
       "      <th></th>\n",
       "      <th>-1</th>\n",
       "      <th>1</th>\n",
       "    </tr>\n",
       "  </thead>\n",
       "  <tbody>\n",
       "    <tr>\n",
       "      <th>-1</th>\n",
       "      <td>12</td>\n",
       "      <td>0</td>\n",
       "    </tr>\n",
       "    <tr>\n",
       "      <th>1</th>\n",
       "      <td>0</td>\n",
       "      <td>13</td>\n",
       "    </tr>\n",
       "  </tbody>\n",
       "</table>\n",
       "</div>"
      ],
      "text/plain": [
       "    -1   1\n",
       "-1  12   0\n",
       " 1   0  13"
      ]
     },
     "execution_count": 287,
     "metadata": {},
     "output_type": "execute_result"
    }
   ],
   "source": [
    "svc2 = SVC(C=1, kernel='linear')\n",
    "svc2.fit(X, y)\n",
    "y_pred = svc2.predict(X_test)\n",
    "pd.DataFrame(confusion_matrix(y_test, y_pred), index=svc2.classes_, columns=svc2.classes_)"
   ]
  },
  {
   "cell_type": "code",
   "execution_count": 288,
   "metadata": {},
   "outputs": [
    {
     "data": {
      "text/html": [
       "<div>\n",
       "<style scoped>\n",
       "    .dataframe tbody tr th:only-of-type {\n",
       "        vertical-align: middle;\n",
       "    }\n",
       "\n",
       "    .dataframe tbody tr th {\n",
       "        vertical-align: top;\n",
       "    }\n",
       "\n",
       "    .dataframe thead th {\n",
       "        text-align: right;\n",
       "    }\n",
       "</style>\n",
       "<table border=\"1\" class=\"dataframe\">\n",
       "  <thead>\n",
       "    <tr style=\"text-align: right;\">\n",
       "      <th></th>\n",
       "      <th>-1</th>\n",
       "      <th>1</th>\n",
       "    </tr>\n",
       "  </thead>\n",
       "  <tbody>\n",
       "    <tr>\n",
       "      <th>-1</th>\n",
       "      <td>12</td>\n",
       "      <td>0</td>\n",
       "    </tr>\n",
       "    <tr>\n",
       "      <th>1</th>\n",
       "      <td>0</td>\n",
       "      <td>13</td>\n",
       "    </tr>\n",
       "  </tbody>\n",
       "</table>\n",
       "</div>"
      ],
      "text/plain": [
       "    -1   1\n",
       "-1  12   0\n",
       " 1   0  13"
      ]
     },
     "execution_count": 288,
     "metadata": {},
     "output_type": "execute_result"
    }
   ],
   "source": [
    "svc2 = SVC(C=5, kernel='linear')\n",
    "svc2.fit(X, y)\n",
    "y_pred = svc2.predict(X_test)\n",
    "pd.DataFrame(confusion_matrix(y_test, y_pred), index=svc2.classes_, columns=svc2.classes_)"
   ]
  },
  {
   "cell_type": "code",
   "execution_count": 289,
   "metadata": {},
   "outputs": [
    {
     "data": {
      "text/html": [
       "<div>\n",
       "<style scoped>\n",
       "    .dataframe tbody tr th:only-of-type {\n",
       "        vertical-align: middle;\n",
       "    }\n",
       "\n",
       "    .dataframe tbody tr th {\n",
       "        vertical-align: top;\n",
       "    }\n",
       "\n",
       "    .dataframe thead th {\n",
       "        text-align: right;\n",
       "    }\n",
       "</style>\n",
       "<table border=\"1\" class=\"dataframe\">\n",
       "  <thead>\n",
       "    <tr style=\"text-align: right;\">\n",
       "      <th></th>\n",
       "      <th>-1</th>\n",
       "      <th>1</th>\n",
       "    </tr>\n",
       "  </thead>\n",
       "  <tbody>\n",
       "    <tr>\n",
       "      <th>-1</th>\n",
       "      <td>12</td>\n",
       "      <td>0</td>\n",
       "    </tr>\n",
       "    <tr>\n",
       "      <th>1</th>\n",
       "      <td>0</td>\n",
       "      <td>13</td>\n",
       "    </tr>\n",
       "  </tbody>\n",
       "</table>\n",
       "</div>"
      ],
      "text/plain": [
       "    -1   1\n",
       "-1  12   0\n",
       " 1   0  13"
      ]
     },
     "execution_count": 289,
     "metadata": {},
     "output_type": "execute_result"
    }
   ],
   "source": [
    "svc2 = SVC(C=10, kernel='linear')\n",
    "svc2.fit(X, y)\n",
    "y_pred = svc2.predict(X_test)\n",
    "pd.DataFrame(confusion_matrix(y_test, y_pred), index=svc2.classes_, columns=svc2.classes_)"
   ]
  },
  {
   "cell_type": "code",
   "execution_count": 290,
   "metadata": {},
   "outputs": [
    {
     "data": {
      "text/html": [
       "<div>\n",
       "<style scoped>\n",
       "    .dataframe tbody tr th:only-of-type {\n",
       "        vertical-align: middle;\n",
       "    }\n",
       "\n",
       "    .dataframe tbody tr th {\n",
       "        vertical-align: top;\n",
       "    }\n",
       "\n",
       "    .dataframe thead th {\n",
       "        text-align: right;\n",
       "    }\n",
       "</style>\n",
       "<table border=\"1\" class=\"dataframe\">\n",
       "  <thead>\n",
       "    <tr style=\"text-align: right;\">\n",
       "      <th></th>\n",
       "      <th>-1</th>\n",
       "      <th>1</th>\n",
       "    </tr>\n",
       "  </thead>\n",
       "  <tbody>\n",
       "    <tr>\n",
       "      <th>-1</th>\n",
       "      <td>11</td>\n",
       "      <td>1</td>\n",
       "    </tr>\n",
       "    <tr>\n",
       "      <th>1</th>\n",
       "      <td>0</td>\n",
       "      <td>13</td>\n",
       "    </tr>\n",
       "  </tbody>\n",
       "</table>\n",
       "</div>"
      ],
      "text/plain": [
       "    -1   1\n",
       "-1  11   1\n",
       " 1   0  13"
      ]
     },
     "execution_count": 290,
     "metadata": {},
     "output_type": "execute_result"
    }
   ],
   "source": [
    "svc2 = SVC(C=100, kernel='linear')\n",
    "svc2.fit(X, y)\n",
    "y_pred = svc2.predict(X_test)\n",
    "pd.DataFrame(confusion_matrix(y_test, y_pred), index=svc2.classes_, columns=svc2.classes_)"
   ]
  },
  {
   "cell_type": "markdown",
   "metadata": {},
   "source": [
    "Findings are consistent with the cross validation results. The models from low to c=10 performed similar and then when the model began fitting the training data perfectly (C=100) the performance on the test began to faulter."
   ]
  },
  {
   "cell_type": "markdown",
   "metadata": {},
   "source": [
    "(d) (5 points) Discuss your results"
   ]
  },
  {
   "cell_type": "markdown",
   "metadata": {},
   "source": [
    "Same as discussion above, the results of this experiment correspond to the initial claim."
   ]
  },
  {
   "cell_type": "markdown",
   "metadata": {},
   "source": [
    "5. (10 points total) In Section 10.2.3, a formula for calculating PVE was given in Equation\n",
    "10.8. We also saw that the PVE can be obtained using the sdev output of the prcomp()\n",
    "function. On the USArrests data, calculate PVE in two ways:"
   ]
  },
  {
   "cell_type": "markdown",
   "metadata": {},
   "source": [
    "(a) (5 points) Using the sdev output of the prcomp() function, as was done in Section\n",
    "10.2.3."
   ]
  },
  {
   "cell_type": "code",
   "execution_count": 2,
   "metadata": {},
   "outputs": [
    {
     "data": {
      "text/html": [
       "<div>\n",
       "<style scoped>\n",
       "    .dataframe tbody tr th:only-of-type {\n",
       "        vertical-align: middle;\n",
       "    }\n",
       "\n",
       "    .dataframe tbody tr th {\n",
       "        vertical-align: top;\n",
       "    }\n",
       "\n",
       "    .dataframe thead th {\n",
       "        text-align: right;\n",
       "    }\n",
       "</style>\n",
       "<table border=\"1\" class=\"dataframe\">\n",
       "  <thead>\n",
       "    <tr style=\"text-align: right;\">\n",
       "      <th></th>\n",
       "      <th>Murder</th>\n",
       "      <th>Assault</th>\n",
       "      <th>UrbanPop</th>\n",
       "      <th>Rape</th>\n",
       "    </tr>\n",
       "  </thead>\n",
       "  <tbody>\n",
       "    <tr>\n",
       "      <th>Alabama</th>\n",
       "      <td>13.2</td>\n",
       "      <td>236</td>\n",
       "      <td>58</td>\n",
       "      <td>21.2</td>\n",
       "    </tr>\n",
       "    <tr>\n",
       "      <th>Alaska</th>\n",
       "      <td>10.0</td>\n",
       "      <td>263</td>\n",
       "      <td>48</td>\n",
       "      <td>44.5</td>\n",
       "    </tr>\n",
       "    <tr>\n",
       "      <th>Arizona</th>\n",
       "      <td>8.1</td>\n",
       "      <td>294</td>\n",
       "      <td>80</td>\n",
       "      <td>31.0</td>\n",
       "    </tr>\n",
       "    <tr>\n",
       "      <th>Arkansas</th>\n",
       "      <td>8.8</td>\n",
       "      <td>190</td>\n",
       "      <td>50</td>\n",
       "      <td>19.5</td>\n",
       "    </tr>\n",
       "    <tr>\n",
       "      <th>California</th>\n",
       "      <td>9.0</td>\n",
       "      <td>276</td>\n",
       "      <td>91</td>\n",
       "      <td>40.6</td>\n",
       "    </tr>\n",
       "  </tbody>\n",
       "</table>\n",
       "</div>"
      ],
      "text/plain": [
       "            Murder  Assault  UrbanPop  Rape\n",
       "Alabama       13.2      236        58  21.2\n",
       "Alaska        10.0      263        48  44.5\n",
       "Arizona        8.1      294        80  31.0\n",
       "Arkansas       8.8      190        50  19.5\n",
       "California     9.0      276        91  40.6"
      ]
     },
     "execution_count": 2,
     "metadata": {},
     "output_type": "execute_result"
    }
   ],
   "source": [
    "df = pd.read_csv('~/Documents/USArrests.csv', index_col=0)\n",
    "df.head()"
   ]
  },
  {
   "cell_type": "code",
   "execution_count": 3,
   "metadata": {},
   "outputs": [],
   "source": [
    "from sklearn.preprocessing import scale\n",
    "X = pd.DataFrame(scale(df), index=df.index, columns=df.columns)"
   ]
  },
  {
   "cell_type": "code",
   "execution_count": 5,
   "metadata": {},
   "outputs": [
    {
     "data": {
      "text/html": [
       "<div>\n",
       "<style scoped>\n",
       "    .dataframe tbody tr th:only-of-type {\n",
       "        vertical-align: middle;\n",
       "    }\n",
       "\n",
       "    .dataframe tbody tr th {\n",
       "        vertical-align: top;\n",
       "    }\n",
       "\n",
       "    .dataframe thead th {\n",
       "        text-align: right;\n",
       "    }\n",
       "</style>\n",
       "<table border=\"1\" class=\"dataframe\">\n",
       "  <thead>\n",
       "    <tr style=\"text-align: right;\">\n",
       "      <th></th>\n",
       "      <th>PC1</th>\n",
       "      <th>PC2</th>\n",
       "      <th>PC3</th>\n",
       "      <th>PC4</th>\n",
       "    </tr>\n",
       "  </thead>\n",
       "  <tbody>\n",
       "    <tr>\n",
       "      <th>Alabama</th>\n",
       "      <td>0.985566</td>\n",
       "      <td>1.133392</td>\n",
       "      <td>-0.444269</td>\n",
       "      <td>0.156267</td>\n",
       "    </tr>\n",
       "    <tr>\n",
       "      <th>Alaska</th>\n",
       "      <td>1.950138</td>\n",
       "      <td>1.073213</td>\n",
       "      <td>2.040003</td>\n",
       "      <td>-0.438583</td>\n",
       "    </tr>\n",
       "    <tr>\n",
       "      <th>Arizona</th>\n",
       "      <td>1.763164</td>\n",
       "      <td>-0.745957</td>\n",
       "      <td>0.054781</td>\n",
       "      <td>-0.834653</td>\n",
       "    </tr>\n",
       "    <tr>\n",
       "      <th>Arkansas</th>\n",
       "      <td>-0.141420</td>\n",
       "      <td>1.119797</td>\n",
       "      <td>0.114574</td>\n",
       "      <td>-0.182811</td>\n",
       "    </tr>\n",
       "    <tr>\n",
       "      <th>California</th>\n",
       "      <td>2.523980</td>\n",
       "      <td>-1.542934</td>\n",
       "      <td>0.598557</td>\n",
       "      <td>-0.341996</td>\n",
       "    </tr>\n",
       "  </tbody>\n",
       "</table>\n",
       "</div>"
      ],
      "text/plain": [
       "                 PC1       PC2       PC3       PC4\n",
       "Alabama     0.985566  1.133392 -0.444269  0.156267\n",
       "Alaska      1.950138  1.073213  2.040003 -0.438583\n",
       "Arizona     1.763164 -0.745957  0.054781 -0.834653\n",
       "Arkansas   -0.141420  1.119797  0.114574 -0.182811\n",
       "California  2.523980 -1.542934  0.598557 -0.341996"
      ]
     },
     "execution_count": 5,
     "metadata": {},
     "output_type": "execute_result"
    }
   ],
   "source": [
    "from sklearn.decomposition import PCA\n",
    "# Fit the PCA model and transform X to get the principal components\n",
    "pca = PCA()\n",
    "df_plot = pd.DataFrame(pca.fit_transform(X), columns=['PC1', 'PC2', 'PC3', 'PC4'], index=X.index)\n",
    "df_plot.head()"
   ]
  },
  {
   "cell_type": "code",
   "execution_count": 6,
   "metadata": {},
   "outputs": [
    {
     "data": {
      "text/plain": [
       "array([2.53085875, 1.00996444, 0.36383998, 0.17696948])"
      ]
     },
     "execution_count": 6,
     "metadata": {},
     "output_type": "execute_result"
    }
   ],
   "source": [
    "pca.explained_variance_"
   ]
  },
  {
   "cell_type": "markdown",
   "metadata": {},
   "source": [
    "(b) (5 points) By applying Equation 10.8 directly. That is, use the prcomp() function\n",
    "to compute the principal component loadings. Then, use those loadings in\n",
    "Equation 10.8 to obtain the PVE."
   ]
  },
  {
   "cell_type": "code",
   "execution_count": 7,
   "metadata": {},
   "outputs": [
    {
     "data": {
      "text/html": [
       "<div>\n",
       "<style scoped>\n",
       "    .dataframe tbody tr th:only-of-type {\n",
       "        vertical-align: middle;\n",
       "    }\n",
       "\n",
       "    .dataframe tbody tr th {\n",
       "        vertical-align: top;\n",
       "    }\n",
       "\n",
       "    .dataframe thead th {\n",
       "        text-align: right;\n",
       "    }\n",
       "</style>\n",
       "<table border=\"1\" class=\"dataframe\">\n",
       "  <thead>\n",
       "    <tr style=\"text-align: right;\">\n",
       "      <th></th>\n",
       "      <th>V1</th>\n",
       "      <th>V2</th>\n",
       "      <th>V3</th>\n",
       "      <th>V4</th>\n",
       "    </tr>\n",
       "  </thead>\n",
       "  <tbody>\n",
       "    <tr>\n",
       "      <th>Murder</th>\n",
       "      <td>0.535899</td>\n",
       "      <td>0.418181</td>\n",
       "      <td>-0.341233</td>\n",
       "      <td>0.649228</td>\n",
       "    </tr>\n",
       "    <tr>\n",
       "      <th>Assault</th>\n",
       "      <td>0.583184</td>\n",
       "      <td>0.187986</td>\n",
       "      <td>-0.268148</td>\n",
       "      <td>-0.743407</td>\n",
       "    </tr>\n",
       "    <tr>\n",
       "      <th>UrbanPop</th>\n",
       "      <td>0.278191</td>\n",
       "      <td>-0.872806</td>\n",
       "      <td>-0.378016</td>\n",
       "      <td>0.133878</td>\n",
       "    </tr>\n",
       "    <tr>\n",
       "      <th>Rape</th>\n",
       "      <td>0.543432</td>\n",
       "      <td>-0.167319</td>\n",
       "      <td>0.817778</td>\n",
       "      <td>0.089024</td>\n",
       "    </tr>\n",
       "  </tbody>\n",
       "</table>\n",
       "</div>"
      ],
      "text/plain": [
       "                V1        V2        V3        V4\n",
       "Murder    0.535899  0.418181 -0.341233  0.649228\n",
       "Assault   0.583184  0.187986 -0.268148 -0.743407\n",
       "UrbanPop  0.278191 -0.872806 -0.378016  0.133878\n",
       "Rape      0.543432 -0.167319  0.817778  0.089024"
      ]
     },
     "execution_count": 7,
     "metadata": {},
     "output_type": "execute_result"
    }
   ],
   "source": [
    "\n",
    "\n",
    "pca_loadings = pd.DataFrame(PCA().fit(X).components_.T, index=df.columns, columns=['V1', 'V2', 'V3', 'V4'])\n",
    "pca_loadings"
   ]
  },
  {
   "cell_type": "code",
   "execution_count": 65,
   "metadata": {},
   "outputs": [
    {
     "data": {
      "text/plain": [
       "0.5358994749381553"
      ]
     },
     "execution_count": 65,
     "metadata": {},
     "output_type": "execute_result"
    }
   ],
   "source": [
    "pca_loadings['V1'][0]"
   ]
  },
  {
   "cell_type": "code",
   "execution_count": 24,
   "metadata": {},
   "outputs": [
    {
     "data": {
      "text/html": [
       "<div>\n",
       "<style scoped>\n",
       "    .dataframe tbody tr th:only-of-type {\n",
       "        vertical-align: middle;\n",
       "    }\n",
       "\n",
       "    .dataframe tbody tr th {\n",
       "        vertical-align: top;\n",
       "    }\n",
       "\n",
       "    .dataframe thead th {\n",
       "        text-align: right;\n",
       "    }\n",
       "</style>\n",
       "<table border=\"1\" class=\"dataframe\">\n",
       "  <thead>\n",
       "    <tr style=\"text-align: right;\">\n",
       "      <th></th>\n",
       "      <th>V1</th>\n",
       "      <th>V2</th>\n",
       "      <th>V3</th>\n",
       "      <th>V4</th>\n",
       "    </tr>\n",
       "  </thead>\n",
       "  <tbody>\n",
       "    <tr>\n",
       "      <th>Assault</th>\n",
       "      <td>0.583184</td>\n",
       "      <td>0.187986</td>\n",
       "      <td>-0.268148</td>\n",
       "      <td>-0.743407</td>\n",
       "    </tr>\n",
       "    <tr>\n",
       "      <th>UrbanPop</th>\n",
       "      <td>0.278191</td>\n",
       "      <td>-0.872806</td>\n",
       "      <td>-0.378016</td>\n",
       "      <td>0.133878</td>\n",
       "    </tr>\n",
       "  </tbody>\n",
       "</table>\n",
       "</div>"
      ],
      "text/plain": [
       "                V1        V2        V3        V4\n",
       "Assault   0.583184  0.187986 -0.268148 -0.743407\n",
       "UrbanPop  0.278191 -0.872806 -0.378016  0.133878"
      ]
     },
     "execution_count": 24,
     "metadata": {},
     "output_type": "execute_result"
    }
   ],
   "source": [
    "pca_loadings[0:4][1:3]"
   ]
  },
  {
   "cell_type": "code",
   "execution_count": 110,
   "metadata": {},
   "outputs": [],
   "source": [
    "df = df.reset_index()"
   ]
  },
  {
   "cell_type": "code",
   "execution_count": 111,
   "metadata": {},
   "outputs": [
    {
     "data": {
      "text/plain": [
       "RangeIndex(start=0, stop=50, step=1)"
      ]
     },
     "execution_count": 111,
     "metadata": {},
     "output_type": "execute_result"
    }
   ],
   "source": [
    "df.index"
   ]
  },
  {
   "cell_type": "code",
   "execution_count": 122,
   "metadata": {},
   "outputs": [
    {
     "data": {
      "text/plain": [
       "0    13.2\n",
       "Name: Murder, dtype: float64"
      ]
     },
     "execution_count": 122,
     "metadata": {},
     "output_type": "execute_result"
    }
   ],
   "source": [
    "df[0:1]['Murder']"
   ]
  },
  {
   "cell_type": "code",
   "execution_count": 149,
   "metadata": {},
   "outputs": [],
   "source": [
    "X = X.reset_index()"
   ]
  },
  {
   "cell_type": "code",
   "execution_count": 155,
   "metadata": {},
   "outputs": [],
   "source": [
    "def PVE(loading, df):\n",
    "    num = 0\n",
    "    mur = [] \n",
    "    ass = []\n",
    "    urb = []\n",
    "    rap = []\n",
    "    for i in df.index:\n",
    "        ##calculate numerator\n",
    "        m = loading[0] * df[i:i+1]['Murder']\n",
    "        a = loading[1] * df[i:i+1]['Assault']\n",
    "        u = loading[2] * df[i:i+1]['UrbanPop']\n",
    "        r = loading[3] * df[i:i+1]['Rape']\n",
    "        value = m + a + u + r\n",
    "        num =+ value ** 2\n",
    "        mur =+ df[i:i+1]['Murder'] ** 2\n",
    "        ass =+ df[i:i+1]['Assault'] ** 2\n",
    "        urb =+ df[i:i+1]['UrbanPop'] ** 2\n",
    "        rap =+ df[i:i+1]['Rape'] ** 2\n",
    "    den = mur.sum() + ass.sum() + urb.sum() + rap.sum()\n",
    "    return num/den\n"
   ]
  },
  {
   "cell_type": "code",
   "execution_count": 156,
   "metadata": {},
   "outputs": [
    {
     "data": {
      "text/plain": [
       "49    0.677323\n",
       "dtype: float64"
      ]
     },
     "execution_count": 156,
     "metadata": {},
     "output_type": "execute_result"
    }
   ],
   "source": [
    "PVE(pca_loadings['V1'], X)"
   ]
  },
  {
   "cell_type": "code",
   "execution_count": 152,
   "metadata": {},
   "outputs": [
    {
     "data": {
      "text/plain": [
       "49    0.176178\n",
       "dtype: float64"
      ]
     },
     "execution_count": 152,
     "metadata": {},
     "output_type": "execute_result"
    }
   ],
   "source": [
    "PVE(pca_loadings['V2'], X)"
   ]
  },
  {
   "cell_type": "code",
   "execution_count": 153,
   "metadata": {},
   "outputs": [
    {
     "data": {
      "text/plain": [
       "49    0.099017\n",
       "dtype: float64"
      ]
     },
     "execution_count": 153,
     "metadata": {},
     "output_type": "execute_result"
    }
   ],
   "source": [
    "PVE(pca_loadings['V3'], X)"
   ]
  },
  {
   "cell_type": "code",
   "execution_count": 154,
   "metadata": {},
   "outputs": [
    {
     "data": {
      "text/plain": [
       "49    0.047482\n",
       "dtype: float64"
      ]
     },
     "execution_count": 154,
     "metadata": {},
     "output_type": "execute_result"
    }
   ],
   "source": [
    "PVE(pca_loadings['V4'], X)"
   ]
  },
  {
   "cell_type": "markdown",
   "metadata": {},
   "source": [
    "6. (20 points total) Consider the USArrests data. We will now perform hierarchical\n",
    "clustering on the states."
   ]
  },
  {
   "cell_type": "markdown",
   "metadata": {},
   "source": [
    "(a) (5 points) Using hierarchical clustering with complete linkage and Euclidean distance,\n",
    "cluster the states."
   ]
  },
  {
   "cell_type": "code",
   "execution_count": 309,
   "metadata": {},
   "outputs": [],
   "source": [
    "from scipy.cluster import hierarchy"
   ]
  },
  {
   "cell_type": "code",
   "execution_count": 319,
   "metadata": {},
   "outputs": [],
   "source": [
    "from scipy.cluster.hierarchy import linkage, dendrogram\n",
    "\n",
    "hc_complete = linkage(df, method='complete', metric='euclidean')\n",
    "hc_average = linkage(df, method='average')\n",
    "hc_single = linkage(df, method='single')"
   ]
  },
  {
   "cell_type": "code",
   "execution_count": 315,
   "metadata": {},
   "outputs": [
    {
     "data": {
      "text/plain": [
       "(50, 4)"
      ]
     },
     "execution_count": 315,
     "metadata": {},
     "output_type": "execute_result"
    }
   ],
   "source": [
    "df.shape"
   ]
  },
  {
   "cell_type": "code",
   "execution_count": 321,
   "metadata": {},
   "outputs": [],
   "source": [
    "Z = linkage(df, 'complete')"
   ]
  },
  {
   "cell_type": "code",
   "execution_count": 322,
   "metadata": {},
   "outputs": [
    {
     "data": {
      "image/png": "[encoded data removed]",
      "text/plain": [
       "<Figure size 1800x720 with 1 Axes>"
      ]
     },
     "metadata": {},
     "output_type": "display_data"
    }
   ],
   "source": [
    "# calculate full dendrogram\n",
    "plt.figure(figsize=(25, 10))\n",
    "plt.title('Hierarchical Clustering Dendrogram')\n",
    "plt.xlabel('sample index')\n",
    "plt.ylabel('distance')\n",
    "dendrogram(\n",
    "    Z,\n",
    "    leaf_rotation=90.,  # rotates the x axis labels\n",
    "    leaf_font_size=8.,  # font size for the x axis labels\n",
    ")\n",
    "plt.show()"
   ]
  },
  {
   "cell_type": "markdown",
   "metadata": {},
   "source": [
    "(b) (5 points) Cut the dendrogram at a height that results in three distinct clusters.\n",
    "Which states belong to which clusters?"
   ]
  },
  {
   "cell_type": "code",
   "execution_count": 327,
   "metadata": {},
   "outputs": [
    {
     "data": {
      "image/png": "[encoded data removed]",
      "text/plain": [
       "<Figure size 1800x720 with 1 Axes>"
      ]
     },
     "metadata": {},
     "output_type": "display_data"
    }
   ],
   "source": [
    "# calculate full dendrogram\n",
    "plt.figure(figsize=(25, 10))\n",
    "plt.title('Hierarchical Clustering Dendrogram')\n",
    "plt.xlabel('sample index')\n",
    "plt.ylabel('distance')\n",
    "dendrogram(\n",
    "    Z,\n",
    "    truncate_mode='lastp',  # show only the last p merged clusters\n",
    "    p=3,  # show only the last p merged clusters\n",
    "    leaf_rotation=90.,  # rotates the x axis labels\n",
    "    leaf_font_size=8.,  # font size for the x axis labels\n",
    ")\n",
    "plt.show()"
   ]
  },
  {
   "cell_type": "code",
   "execution_count": 332,
   "metadata": {},
   "outputs": [
    {
     "data": {
      "text/plain": [
       "{'icoord': [[15.0, 15.0, 25.0, 25.0], [5.0, 5.0, 20.0, 20.0]],\n",
       " 'dcoord': [[0.0, 168.6114171697753, 168.6114171697753, 0.0],\n",
       "  [0.0, 293.6227511620992, 293.6227511620992, 168.6114171697753]],\n",
       " 'ivl': ['(16)', '(14)', '(20)'],\n",
       " 'leaves': [96, 94, 95],\n",
       " 'color_list': ['g', 'b']}"
      ]
     },
     "execution_count": 332,
     "metadata": {},
     "output_type": "execute_result"
    },
    {
     "data": {
      "image/png": "[encoded data removed]",
      "text/plain": [
       "<Figure size 432x288 with 1 Axes>"
      ]
     },
     "metadata": {},
     "output_type": "display_data"
    }
   ],
   "source": [
    "dendrogram(\n",
    "    Z,\n",
    "    truncate_mode='lastp',  # show only the last p merged clusters\n",
    "    p=3,  # show only the last p merged clusters\n",
    "    leaf_rotation=90.,  # rotates the x axis labels\n",
    "    leaf_font_size=8.,  # font size for the x axis labels\n",
    "    get_leaves=True,\n",
    ")"
   ]
  },
  {
   "cell_type": "code",
   "execution_count": 334,
   "metadata": {},
   "outputs": [],
   "source": [
    "from scipy.cluster.hierarchy import fcluster, cut_tree"
   ]
  },
  {
   "cell_type": "code",
   "execution_count": 337,
   "metadata": {
    "scrolled": true
   },
   "outputs": [
    {
     "data": {
      "text/plain": [
       "array([[0],\n",
       "       [0],\n",
       "       [0],\n",
       "       [1],\n",
       "       [0],\n",
       "       [1],\n",
       "       [2],\n",
       "       [0],\n",
       "       [0],\n",
       "       [1],\n",
       "       [2],\n",
       "       [2],\n",
       "       [0],\n",
       "       [2],\n",
       "       [2],\n",
       "       [2],\n",
       "       [2],\n",
       "       [0],\n",
       "       [2],\n",
       "       [0],\n",
       "       [1],\n",
       "       [0],\n",
       "       [2],\n",
       "       [0],\n",
       "       [1],\n",
       "       [2],\n",
       "       [2],\n",
       "       [0],\n",
       "       [2],\n",
       "       [1],\n",
       "       [0],\n",
       "       [0],\n",
       "       [0],\n",
       "       [2],\n",
       "       [2],\n",
       "       [1],\n",
       "       [1],\n",
       "       [2],\n",
       "       [1],\n",
       "       [0],\n",
       "       [2],\n",
       "       [1],\n",
       "       [1],\n",
       "       [2],\n",
       "       [2],\n",
       "       [1],\n",
       "       [1],\n",
       "       [2],\n",
       "       [2],\n",
       "       [1]])"
      ]
     },
     "execution_count": 337,
     "metadata": {},
     "output_type": "execute_result"
    }
   ],
   "source": [
    "cut_tree(Z, 3)"
   ]
  },
  {
   "cell_type": "code",
   "execution_count": 339,
   "metadata": {
    "scrolled": true
   },
   "outputs": [
    {
     "data": {
      "text/html": [
       "<div>\n",
       "<style scoped>\n",
       "    .dataframe tbody tr th:only-of-type {\n",
       "        vertical-align: middle;\n",
       "    }\n",
       "\n",
       "    .dataframe tbody tr th {\n",
       "        vertical-align: top;\n",
       "    }\n",
       "\n",
       "    .dataframe thead th {\n",
       "        text-align: right;\n",
       "    }\n",
       "</style>\n",
       "<table border=\"1\" class=\"dataframe\">\n",
       "  <thead>\n",
       "    <tr style=\"text-align: right;\">\n",
       "      <th></th>\n",
       "      <th>group</th>\n",
       "    </tr>\n",
       "  </thead>\n",
       "  <tbody>\n",
       "    <tr>\n",
       "      <th>Alabama</th>\n",
       "      <td>0</td>\n",
       "    </tr>\n",
       "    <tr>\n",
       "      <th>Alaska</th>\n",
       "      <td>0</td>\n",
       "    </tr>\n",
       "    <tr>\n",
       "      <th>Arizona</th>\n",
       "      <td>0</td>\n",
       "    </tr>\n",
       "    <tr>\n",
       "      <th>Arkansas</th>\n",
       "      <td>1</td>\n",
       "    </tr>\n",
       "    <tr>\n",
       "      <th>California</th>\n",
       "      <td>0</td>\n",
       "    </tr>\n",
       "    <tr>\n",
       "      <th>Colorado</th>\n",
       "      <td>1</td>\n",
       "    </tr>\n",
       "    <tr>\n",
       "      <th>Connecticut</th>\n",
       "      <td>2</td>\n",
       "    </tr>\n",
       "    <tr>\n",
       "      <th>Delaware</th>\n",
       "      <td>0</td>\n",
       "    </tr>\n",
       "    <tr>\n",
       "      <th>Florida</th>\n",
       "      <td>0</td>\n",
       "    </tr>\n",
       "    <tr>\n",
       "      <th>Georgia</th>\n",
       "      <td>1</td>\n",
       "    </tr>\n",
       "    <tr>\n",
       "      <th>Hawaii</th>\n",
       "      <td>2</td>\n",
       "    </tr>\n",
       "    <tr>\n",
       "      <th>Idaho</th>\n",
       "      <td>2</td>\n",
       "    </tr>\n",
       "    <tr>\n",
       "      <th>Illinois</th>\n",
       "      <td>0</td>\n",
       "    </tr>\n",
       "    <tr>\n",
       "      <th>Indiana</th>\n",
       "      <td>2</td>\n",
       "    </tr>\n",
       "    <tr>\n",
       "      <th>Iowa</th>\n",
       "      <td>2</td>\n",
       "    </tr>\n",
       "    <tr>\n",
       "      <th>Kansas</th>\n",
       "      <td>2</td>\n",
       "    </tr>\n",
       "    <tr>\n",
       "      <th>Kentucky</th>\n",
       "      <td>2</td>\n",
       "    </tr>\n",
       "    <tr>\n",
       "      <th>Louisiana</th>\n",
       "      <td>0</td>\n",
       "    </tr>\n",
       "    <tr>\n",
       "      <th>Maine</th>\n",
       "      <td>2</td>\n",
       "    </tr>\n",
       "    <tr>\n",
       "      <th>Maryland</th>\n",
       "      <td>0</td>\n",
       "    </tr>\n",
       "    <tr>\n",
       "      <th>Massachusetts</th>\n",
       "      <td>1</td>\n",
       "    </tr>\n",
       "    <tr>\n",
       "      <th>Michigan</th>\n",
       "      <td>0</td>\n",
       "    </tr>\n",
       "    <tr>\n",
       "      <th>Minnesota</th>\n",
       "      <td>2</td>\n",
       "    </tr>\n",
       "    <tr>\n",
       "      <th>Mississippi</th>\n",
       "      <td>0</td>\n",
       "    </tr>\n",
       "    <tr>\n",
       "      <th>Missouri</th>\n",
       "      <td>1</td>\n",
       "    </tr>\n",
       "    <tr>\n",
       "      <th>Montana</th>\n",
       "      <td>2</td>\n",
       "    </tr>\n",
       "    <tr>\n",
       "      <th>Nebraska</th>\n",
       "      <td>2</td>\n",
       "    </tr>\n",
       "    <tr>\n",
       "      <th>Nevada</th>\n",
       "      <td>0</td>\n",
       "    </tr>\n",
       "    <tr>\n",
       "      <th>New Hampshire</th>\n",
       "      <td>2</td>\n",
       "    </tr>\n",
       "    <tr>\n",
       "      <th>New Jersey</th>\n",
       "      <td>1</td>\n",
       "    </tr>\n",
       "    <tr>\n",
       "      <th>New Mexico</th>\n",
       "      <td>0</td>\n",
       "    </tr>\n",
       "    <tr>\n",
       "      <th>New York</th>\n",
       "      <td>0</td>\n",
       "    </tr>\n",
       "    <tr>\n",
       "      <th>North Carolina</th>\n",
       "      <td>0</td>\n",
       "    </tr>\n",
       "    <tr>\n",
       "      <th>North Dakota</th>\n",
       "      <td>2</td>\n",
       "    </tr>\n",
       "    <tr>\n",
       "      <th>Ohio</th>\n",
       "      <td>2</td>\n",
       "    </tr>\n",
       "    <tr>\n",
       "      <th>Oklahoma</th>\n",
       "      <td>1</td>\n",
       "    </tr>\n",
       "    <tr>\n",
       "      <th>Oregon</th>\n",
       "      <td>1</td>\n",
       "    </tr>\n",
       "    <tr>\n",
       "      <th>Pennsylvania</th>\n",
       "      <td>2</td>\n",
       "    </tr>\n",
       "    <tr>\n",
       "      <th>Rhode Island</th>\n",
       "      <td>1</td>\n",
       "    </tr>\n",
       "    <tr>\n",
       "      <th>South Carolina</th>\n",
       "      <td>0</td>\n",
       "    </tr>\n",
       "    <tr>\n",
       "      <th>South Dakota</th>\n",
       "      <td>2</td>\n",
       "    </tr>\n",
       "    <tr>\n",
       "      <th>Tennessee</th>\n",
       "      <td>1</td>\n",
       "    </tr>\n",
       "    <tr>\n",
       "      <th>Texas</th>\n",
       "      <td>1</td>\n",
       "    </tr>\n",
       "    <tr>\n",
       "      <th>Utah</th>\n",
       "      <td>2</td>\n",
       "    </tr>\n",
       "    <tr>\n",
       "      <th>Vermont</th>\n",
       "      <td>2</td>\n",
       "    </tr>\n",
       "    <tr>\n",
       "      <th>Virginia</th>\n",
       "      <td>1</td>\n",
       "    </tr>\n",
       "    <tr>\n",
       "      <th>Washington</th>\n",
       "      <td>1</td>\n",
       "    </tr>\n",
       "    <tr>\n",
       "      <th>West Virginia</th>\n",
       "      <td>2</td>\n",
       "    </tr>\n",
       "    <tr>\n",
       "      <th>Wisconsin</th>\n",
       "      <td>2</td>\n",
       "    </tr>\n",
       "    <tr>\n",
       "      <th>Wyoming</th>\n",
       "      <td>1</td>\n",
       "    </tr>\n",
       "  </tbody>\n",
       "</table>\n",
       "</div>"
      ],
      "text/plain": [
       "                group\n",
       "Alabama             0\n",
       "Alaska              0\n",
       "Arizona             0\n",
       "Arkansas            1\n",
       "California          0\n",
       "Colorado            1\n",
       "Connecticut         2\n",
       "Delaware            0\n",
       "Florida             0\n",
       "Georgia             1\n",
       "Hawaii              2\n",
       "Idaho               2\n",
       "Illinois            0\n",
       "Indiana             2\n",
       "Iowa                2\n",
       "Kansas              2\n",
       "Kentucky            2\n",
       "Louisiana           0\n",
       "Maine               2\n",
       "Maryland            0\n",
       "Massachusetts       1\n",
       "Michigan            0\n",
       "Minnesota           2\n",
       "Mississippi         0\n",
       "Missouri            1\n",
       "Montana             2\n",
       "Nebraska            2\n",
       "Nevada              0\n",
       "New Hampshire       2\n",
       "New Jersey          1\n",
       "New Mexico          0\n",
       "New York            0\n",
       "North Carolina      0\n",
       "North Dakota        2\n",
       "Ohio                2\n",
       "Oklahoma            1\n",
       "Oregon              1\n",
       "Pennsylvania        2\n",
       "Rhode Island        1\n",
       "South Carolina      0\n",
       "South Dakota        2\n",
       "Tennessee           1\n",
       "Texas               1\n",
       "Utah                2\n",
       "Vermont             2\n",
       "Virginia            1\n",
       "Washington          1\n",
       "West Virginia       2\n",
       "Wisconsin           2\n",
       "Wyoming             1"
      ]
     },
     "execution_count": 339,
     "metadata": {},
     "output_type": "execute_result"
    }
   ],
   "source": [
    "members = df\n",
    "members['group'] = cut_tree(Z, 3)\n",
    "members = members.drop(['Murder', 'Assault', 'UrbanPop', 'Rape'], axis=1)\n",
    "members"
   ]
  },
  {
   "cell_type": "code",
   "execution_count": 340,
   "metadata": {},
   "outputs": [],
   "source": [
    "group0 = members.query('group == 0')\n",
    "group1 = members.query('group == 1')\n",
    "group2 = members.query('group == 2')"
   ]
  },
  {
   "cell_type": "code",
   "execution_count": 341,
   "metadata": {},
   "outputs": [
    {
     "data": {
      "text/html": [
       "<div>\n",
       "<style scoped>\n",
       "    .dataframe tbody tr th:only-of-type {\n",
       "        vertical-align: middle;\n",
       "    }\n",
       "\n",
       "    .dataframe tbody tr th {\n",
       "        vertical-align: top;\n",
       "    }\n",
       "\n",
       "    .dataframe thead th {\n",
       "        text-align: right;\n",
       "    }\n",
       "</style>\n",
       "<table border=\"1\" class=\"dataframe\">\n",
       "  <thead>\n",
       "    <tr style=\"text-align: right;\">\n",
       "      <th></th>\n",
       "      <th>group</th>\n",
       "    </tr>\n",
       "  </thead>\n",
       "  <tbody>\n",
       "    <tr>\n",
       "      <th>Alabama</th>\n",
       "      <td>0</td>\n",
       "    </tr>\n",
       "    <tr>\n",
       "      <th>Alaska</th>\n",
       "      <td>0</td>\n",
       "    </tr>\n",
       "    <tr>\n",
       "      <th>Arizona</th>\n",
       "      <td>0</td>\n",
       "    </tr>\n",
       "    <tr>\n",
       "      <th>California</th>\n",
       "      <td>0</td>\n",
       "    </tr>\n",
       "    <tr>\n",
       "      <th>Delaware</th>\n",
       "      <td>0</td>\n",
       "    </tr>\n",
       "    <tr>\n",
       "      <th>Florida</th>\n",
       "      <td>0</td>\n",
       "    </tr>\n",
       "    <tr>\n",
       "      <th>Illinois</th>\n",
       "      <td>0</td>\n",
       "    </tr>\n",
       "    <tr>\n",
       "      <th>Louisiana</th>\n",
       "      <td>0</td>\n",
       "    </tr>\n",
       "    <tr>\n",
       "      <th>Maryland</th>\n",
       "      <td>0</td>\n",
       "    </tr>\n",
       "    <tr>\n",
       "      <th>Michigan</th>\n",
       "      <td>0</td>\n",
       "    </tr>\n",
       "    <tr>\n",
       "      <th>Mississippi</th>\n",
       "      <td>0</td>\n",
       "    </tr>\n",
       "    <tr>\n",
       "      <th>Nevada</th>\n",
       "      <td>0</td>\n",
       "    </tr>\n",
       "    <tr>\n",
       "      <th>New Mexico</th>\n",
       "      <td>0</td>\n",
       "    </tr>\n",
       "    <tr>\n",
       "      <th>New York</th>\n",
       "      <td>0</td>\n",
       "    </tr>\n",
       "    <tr>\n",
       "      <th>North Carolina</th>\n",
       "      <td>0</td>\n",
       "    </tr>\n",
       "    <tr>\n",
       "      <th>South Carolina</th>\n",
       "      <td>0</td>\n",
       "    </tr>\n",
       "  </tbody>\n",
       "</table>\n",
       "</div>"
      ],
      "text/plain": [
       "                group\n",
       "Alabama             0\n",
       "Alaska              0\n",
       "Arizona             0\n",
       "California          0\n",
       "Delaware            0\n",
       "Florida             0\n",
       "Illinois            0\n",
       "Louisiana           0\n",
       "Maryland            0\n",
       "Michigan            0\n",
       "Mississippi         0\n",
       "Nevada              0\n",
       "New Mexico          0\n",
       "New York            0\n",
       "North Carolina      0\n",
       "South Carolina      0"
      ]
     },
     "execution_count": 341,
     "metadata": {},
     "output_type": "execute_result"
    }
   ],
   "source": [
    "group0"
   ]
  },
  {
   "cell_type": "code",
   "execution_count": 342,
   "metadata": {},
   "outputs": [
    {
     "data": {
      "text/html": [
       "<div>\n",
       "<style scoped>\n",
       "    .dataframe tbody tr th:only-of-type {\n",
       "        vertical-align: middle;\n",
       "    }\n",
       "\n",
       "    .dataframe tbody tr th {\n",
       "        vertical-align: top;\n",
       "    }\n",
       "\n",
       "    .dataframe thead th {\n",
       "        text-align: right;\n",
       "    }\n",
       "</style>\n",
       "<table border=\"1\" class=\"dataframe\">\n",
       "  <thead>\n",
       "    <tr style=\"text-align: right;\">\n",
       "      <th></th>\n",
       "      <th>group</th>\n",
       "    </tr>\n",
       "  </thead>\n",
       "  <tbody>\n",
       "    <tr>\n",
       "      <th>Arkansas</th>\n",
       "      <td>1</td>\n",
       "    </tr>\n",
       "    <tr>\n",
       "      <th>Colorado</th>\n",
       "      <td>1</td>\n",
       "    </tr>\n",
       "    <tr>\n",
       "      <th>Georgia</th>\n",
       "      <td>1</td>\n",
       "    </tr>\n",
       "    <tr>\n",
       "      <th>Massachusetts</th>\n",
       "      <td>1</td>\n",
       "    </tr>\n",
       "    <tr>\n",
       "      <th>Missouri</th>\n",
       "      <td>1</td>\n",
       "    </tr>\n",
       "    <tr>\n",
       "      <th>New Jersey</th>\n",
       "      <td>1</td>\n",
       "    </tr>\n",
       "    <tr>\n",
       "      <th>Oklahoma</th>\n",
       "      <td>1</td>\n",
       "    </tr>\n",
       "    <tr>\n",
       "      <th>Oregon</th>\n",
       "      <td>1</td>\n",
       "    </tr>\n",
       "    <tr>\n",
       "      <th>Rhode Island</th>\n",
       "      <td>1</td>\n",
       "    </tr>\n",
       "    <tr>\n",
       "      <th>Tennessee</th>\n",
       "      <td>1</td>\n",
       "    </tr>\n",
       "    <tr>\n",
       "      <th>Texas</th>\n",
       "      <td>1</td>\n",
       "    </tr>\n",
       "    <tr>\n",
       "      <th>Virginia</th>\n",
       "      <td>1</td>\n",
       "    </tr>\n",
       "    <tr>\n",
       "      <th>Washington</th>\n",
       "      <td>1</td>\n",
       "    </tr>\n",
       "    <tr>\n",
       "      <th>Wyoming</th>\n",
       "      <td>1</td>\n",
       "    </tr>\n",
       "  </tbody>\n",
       "</table>\n",
       "</div>"
      ],
      "text/plain": [
       "               group\n",
       "Arkansas           1\n",
       "Colorado           1\n",
       "Georgia            1\n",
       "Massachusetts      1\n",
       "Missouri           1\n",
       "New Jersey         1\n",
       "Oklahoma           1\n",
       "Oregon             1\n",
       "Rhode Island       1\n",
       "Tennessee          1\n",
       "Texas              1\n",
       "Virginia           1\n",
       "Washington         1\n",
       "Wyoming            1"
      ]
     },
     "execution_count": 342,
     "metadata": {},
     "output_type": "execute_result"
    }
   ],
   "source": [
    "group1"
   ]
  },
  {
   "cell_type": "code",
   "execution_count": 343,
   "metadata": {},
   "outputs": [
    {
     "data": {
      "text/html": [
       "<div>\n",
       "<style scoped>\n",
       "    .dataframe tbody tr th:only-of-type {\n",
       "        vertical-align: middle;\n",
       "    }\n",
       "\n",
       "    .dataframe tbody tr th {\n",
       "        vertical-align: top;\n",
       "    }\n",
       "\n",
       "    .dataframe thead th {\n",
       "        text-align: right;\n",
       "    }\n",
       "</style>\n",
       "<table border=\"1\" class=\"dataframe\">\n",
       "  <thead>\n",
       "    <tr style=\"text-align: right;\">\n",
       "      <th></th>\n",
       "      <th>group</th>\n",
       "    </tr>\n",
       "  </thead>\n",
       "  <tbody>\n",
       "    <tr>\n",
       "      <th>Connecticut</th>\n",
       "      <td>2</td>\n",
       "    </tr>\n",
       "    <tr>\n",
       "      <th>Hawaii</th>\n",
       "      <td>2</td>\n",
       "    </tr>\n",
       "    <tr>\n",
       "      <th>Idaho</th>\n",
       "      <td>2</td>\n",
       "    </tr>\n",
       "    <tr>\n",
       "      <th>Indiana</th>\n",
       "      <td>2</td>\n",
       "    </tr>\n",
       "    <tr>\n",
       "      <th>Iowa</th>\n",
       "      <td>2</td>\n",
       "    </tr>\n",
       "    <tr>\n",
       "      <th>Kansas</th>\n",
       "      <td>2</td>\n",
       "    </tr>\n",
       "    <tr>\n",
       "      <th>Kentucky</th>\n",
       "      <td>2</td>\n",
       "    </tr>\n",
       "    <tr>\n",
       "      <th>Maine</th>\n",
       "      <td>2</td>\n",
       "    </tr>\n",
       "    <tr>\n",
       "      <th>Minnesota</th>\n",
       "      <td>2</td>\n",
       "    </tr>\n",
       "    <tr>\n",
       "      <th>Montana</th>\n",
       "      <td>2</td>\n",
       "    </tr>\n",
       "    <tr>\n",
       "      <th>Nebraska</th>\n",
       "      <td>2</td>\n",
       "    </tr>\n",
       "    <tr>\n",
       "      <th>New Hampshire</th>\n",
       "      <td>2</td>\n",
       "    </tr>\n",
       "    <tr>\n",
       "      <th>North Dakota</th>\n",
       "      <td>2</td>\n",
       "    </tr>\n",
       "    <tr>\n",
       "      <th>Ohio</th>\n",
       "      <td>2</td>\n",
       "    </tr>\n",
       "    <tr>\n",
       "      <th>Pennsylvania</th>\n",
       "      <td>2</td>\n",
       "    </tr>\n",
       "    <tr>\n",
       "      <th>South Dakota</th>\n",
       "      <td>2</td>\n",
       "    </tr>\n",
       "    <tr>\n",
       "      <th>Utah</th>\n",
       "      <td>2</td>\n",
       "    </tr>\n",
       "    <tr>\n",
       "      <th>Vermont</th>\n",
       "      <td>2</td>\n",
       "    </tr>\n",
       "    <tr>\n",
       "      <th>West Virginia</th>\n",
       "      <td>2</td>\n",
       "    </tr>\n",
       "    <tr>\n",
       "      <th>Wisconsin</th>\n",
       "      <td>2</td>\n",
       "    </tr>\n",
       "  </tbody>\n",
       "</table>\n",
       "</div>"
      ],
      "text/plain": [
       "               group\n",
       "Connecticut        2\n",
       "Hawaii             2\n",
       "Idaho              2\n",
       "Indiana            2\n",
       "Iowa               2\n",
       "Kansas             2\n",
       "Kentucky           2\n",
       "Maine              2\n",
       "Minnesota          2\n",
       "Montana            2\n",
       "Nebraska           2\n",
       "New Hampshire      2\n",
       "North Dakota       2\n",
       "Ohio               2\n",
       "Pennsylvania       2\n",
       "South Dakota       2\n",
       "Utah               2\n",
       "Vermont            2\n",
       "West Virginia      2\n",
       "Wisconsin          2"
      ]
     },
     "execution_count": 343,
     "metadata": {},
     "output_type": "execute_result"
    }
   ],
   "source": [
    "group2"
   ]
  },
  {
   "cell_type": "markdown",
   "metadata": {},
   "source": [
    "(c) (5 points) Hierarchically cluster the states using complete linkage and Euclidean\n",
    "distance, after scaling the variables to have standard deviation one."
   ]
  },
  {
   "cell_type": "code",
   "execution_count": 344,
   "metadata": {
    "scrolled": true
   },
   "outputs": [
    {
     "data": {
      "text/html": [
       "<div>\n",
       "<style scoped>\n",
       "    .dataframe tbody tr th:only-of-type {\n",
       "        vertical-align: middle;\n",
       "    }\n",
       "\n",
       "    .dataframe tbody tr th {\n",
       "        vertical-align: top;\n",
       "    }\n",
       "\n",
       "    .dataframe thead th {\n",
       "        text-align: right;\n",
       "    }\n",
       "</style>\n",
       "<table border=\"1\" class=\"dataframe\">\n",
       "  <thead>\n",
       "    <tr style=\"text-align: right;\">\n",
       "      <th></th>\n",
       "      <th>Murder</th>\n",
       "      <th>Assault</th>\n",
       "      <th>UrbanPop</th>\n",
       "      <th>Rape</th>\n",
       "    </tr>\n",
       "  </thead>\n",
       "  <tbody>\n",
       "    <tr>\n",
       "      <th>Alabama</th>\n",
       "      <td>1.255179</td>\n",
       "      <td>0.790787</td>\n",
       "      <td>-0.526195</td>\n",
       "      <td>-0.003451</td>\n",
       "    </tr>\n",
       "    <tr>\n",
       "      <th>Alaska</th>\n",
       "      <td>0.513019</td>\n",
       "      <td>1.118060</td>\n",
       "      <td>-1.224067</td>\n",
       "      <td>2.509424</td>\n",
       "    </tr>\n",
       "    <tr>\n",
       "      <th>Arizona</th>\n",
       "      <td>0.072361</td>\n",
       "      <td>1.493817</td>\n",
       "      <td>1.009122</td>\n",
       "      <td>1.053466</td>\n",
       "    </tr>\n",
       "    <tr>\n",
       "      <th>Arkansas</th>\n",
       "      <td>0.234708</td>\n",
       "      <td>0.233212</td>\n",
       "      <td>-1.084492</td>\n",
       "      <td>-0.186794</td>\n",
       "    </tr>\n",
       "    <tr>\n",
       "      <th>California</th>\n",
       "      <td>0.281093</td>\n",
       "      <td>1.275635</td>\n",
       "      <td>1.776781</td>\n",
       "      <td>2.088814</td>\n",
       "    </tr>\n",
       "    <tr>\n",
       "      <th>Colorado</th>\n",
       "      <td>0.025976</td>\n",
       "      <td>0.402909</td>\n",
       "      <td>0.869548</td>\n",
       "      <td>1.883901</td>\n",
       "    </tr>\n",
       "    <tr>\n",
       "      <th>Connecticut</th>\n",
       "      <td>-1.040880</td>\n",
       "      <td>-0.736484</td>\n",
       "      <td>0.799761</td>\n",
       "      <td>-1.092723</td>\n",
       "    </tr>\n",
       "    <tr>\n",
       "      <th>Delaware</th>\n",
       "      <td>-0.437875</td>\n",
       "      <td>0.815030</td>\n",
       "      <td>0.450825</td>\n",
       "      <td>-0.585834</td>\n",
       "    </tr>\n",
       "    <tr>\n",
       "      <th>Florida</th>\n",
       "      <td>1.765415</td>\n",
       "      <td>1.990786</td>\n",
       "      <td>1.009122</td>\n",
       "      <td>1.150530</td>\n",
       "    </tr>\n",
       "    <tr>\n",
       "      <th>Georgia</th>\n",
       "      <td>2.229265</td>\n",
       "      <td>0.487757</td>\n",
       "      <td>-0.386621</td>\n",
       "      <td>0.492653</td>\n",
       "    </tr>\n",
       "    <tr>\n",
       "      <th>Hawaii</th>\n",
       "      <td>-0.577030</td>\n",
       "      <td>-1.512241</td>\n",
       "      <td>1.218484</td>\n",
       "      <td>-0.111300</td>\n",
       "    </tr>\n",
       "    <tr>\n",
       "      <th>Idaho</th>\n",
       "      <td>-1.203228</td>\n",
       "      <td>-0.615272</td>\n",
       "      <td>-0.805344</td>\n",
       "      <td>-0.758392</td>\n",
       "    </tr>\n",
       "    <tr>\n",
       "      <th>Illinois</th>\n",
       "      <td>0.605789</td>\n",
       "      <td>0.948363</td>\n",
       "      <td>1.218484</td>\n",
       "      <td>0.298525</td>\n",
       "    </tr>\n",
       "    <tr>\n",
       "      <th>Indiana</th>\n",
       "      <td>-0.136372</td>\n",
       "      <td>-0.700121</td>\n",
       "      <td>-0.037685</td>\n",
       "      <td>-0.025021</td>\n",
       "    </tr>\n",
       "    <tr>\n",
       "      <th>Iowa</th>\n",
       "      <td>-1.295998</td>\n",
       "      <td>-1.391029</td>\n",
       "      <td>-0.595982</td>\n",
       "      <td>-1.071153</td>\n",
       "    </tr>\n",
       "    <tr>\n",
       "      <th>Kansas</th>\n",
       "      <td>-0.414682</td>\n",
       "      <td>-0.675878</td>\n",
       "      <td>0.032102</td>\n",
       "      <td>-0.348567</td>\n",
       "    </tr>\n",
       "    <tr>\n",
       "      <th>Kentucky</th>\n",
       "      <td>0.443441</td>\n",
       "      <td>-0.748605</td>\n",
       "      <td>-0.944918</td>\n",
       "      <td>-0.531910</td>\n",
       "    </tr>\n",
       "    <tr>\n",
       "      <th>Louisiana</th>\n",
       "      <td>1.765415</td>\n",
       "      <td>0.948363</td>\n",
       "      <td>0.032102</td>\n",
       "      <td>0.104398</td>\n",
       "    </tr>\n",
       "    <tr>\n",
       "      <th>Maine</th>\n",
       "      <td>-1.319191</td>\n",
       "      <td>-1.063757</td>\n",
       "      <td>-1.014705</td>\n",
       "      <td>-1.448624</td>\n",
       "    </tr>\n",
       "    <tr>\n",
       "      <th>Maryland</th>\n",
       "      <td>0.814521</td>\n",
       "      <td>1.566544</td>\n",
       "      <td>0.101889</td>\n",
       "      <td>0.708350</td>\n",
       "    </tr>\n",
       "    <tr>\n",
       "      <th>Massachusetts</th>\n",
       "      <td>-0.785763</td>\n",
       "      <td>-0.263757</td>\n",
       "      <td>1.358058</td>\n",
       "      <td>-0.531910</td>\n",
       "    </tr>\n",
       "    <tr>\n",
       "      <th>Michigan</th>\n",
       "      <td>1.000062</td>\n",
       "      <td>1.021090</td>\n",
       "      <td>0.590399</td>\n",
       "      <td>1.495646</td>\n",
       "    </tr>\n",
       "    <tr>\n",
       "      <th>Minnesota</th>\n",
       "      <td>-1.180036</td>\n",
       "      <td>-1.197090</td>\n",
       "      <td>0.032102</td>\n",
       "      <td>-0.682898</td>\n",
       "    </tr>\n",
       "    <tr>\n",
       "      <th>Mississippi</th>\n",
       "      <td>1.927762</td>\n",
       "      <td>1.069575</td>\n",
       "      <td>-1.503215</td>\n",
       "      <td>-0.445631</td>\n",
       "    </tr>\n",
       "    <tr>\n",
       "      <th>Missouri</th>\n",
       "      <td>0.281093</td>\n",
       "      <td>0.087757</td>\n",
       "      <td>0.311251</td>\n",
       "      <td>0.751490</td>\n",
       "    </tr>\n",
       "    <tr>\n",
       "      <th>Montana</th>\n",
       "      <td>-0.414682</td>\n",
       "      <td>-0.748605</td>\n",
       "      <td>-0.875131</td>\n",
       "      <td>-0.521125</td>\n",
       "    </tr>\n",
       "    <tr>\n",
       "      <th>Nebraska</th>\n",
       "      <td>-0.808955</td>\n",
       "      <td>-0.833454</td>\n",
       "      <td>-0.247047</td>\n",
       "      <td>-0.510340</td>\n",
       "    </tr>\n",
       "    <tr>\n",
       "      <th>Nevada</th>\n",
       "      <td>1.023254</td>\n",
       "      <td>0.984726</td>\n",
       "      <td>1.078909</td>\n",
       "      <td>2.671197</td>\n",
       "    </tr>\n",
       "    <tr>\n",
       "      <th>New Hampshire</th>\n",
       "      <td>-1.319191</td>\n",
       "      <td>-1.378908</td>\n",
       "      <td>-0.665769</td>\n",
       "      <td>-1.265281</td>\n",
       "    </tr>\n",
       "    <tr>\n",
       "      <th>New Jersey</th>\n",
       "      <td>-0.089987</td>\n",
       "      <td>-0.142545</td>\n",
       "      <td>1.637207</td>\n",
       "      <td>-0.262288</td>\n",
       "    </tr>\n",
       "    <tr>\n",
       "      <th>New Mexico</th>\n",
       "      <td>0.837714</td>\n",
       "      <td>1.384726</td>\n",
       "      <td>0.311251</td>\n",
       "      <td>1.172100</td>\n",
       "    </tr>\n",
       "    <tr>\n",
       "      <th>New York</th>\n",
       "      <td>0.768136</td>\n",
       "      <td>1.008969</td>\n",
       "      <td>1.427845</td>\n",
       "      <td>0.525008</td>\n",
       "    </tr>\n",
       "    <tr>\n",
       "      <th>North Carolina</th>\n",
       "      <td>1.208794</td>\n",
       "      <td>2.015028</td>\n",
       "      <td>-1.433428</td>\n",
       "      <td>-0.553480</td>\n",
       "    </tr>\n",
       "    <tr>\n",
       "      <th>North Dakota</th>\n",
       "      <td>-1.620693</td>\n",
       "      <td>-1.524362</td>\n",
       "      <td>-1.503215</td>\n",
       "      <td>-1.502548</td>\n",
       "    </tr>\n",
       "    <tr>\n",
       "      <th>Ohio</th>\n",
       "      <td>-0.113180</td>\n",
       "      <td>-0.615272</td>\n",
       "      <td>0.660186</td>\n",
       "      <td>0.018119</td>\n",
       "    </tr>\n",
       "    <tr>\n",
       "      <th>Oklahoma</th>\n",
       "      <td>-0.275527</td>\n",
       "      <td>-0.239515</td>\n",
       "      <td>0.171676</td>\n",
       "      <td>-0.132870</td>\n",
       "    </tr>\n",
       "    <tr>\n",
       "      <th>Oregon</th>\n",
       "      <td>-0.669800</td>\n",
       "      <td>-0.142545</td>\n",
       "      <td>0.101889</td>\n",
       "      <td>0.870123</td>\n",
       "    </tr>\n",
       "    <tr>\n",
       "      <th>Pennsylvania</th>\n",
       "      <td>-0.345105</td>\n",
       "      <td>-0.784969</td>\n",
       "      <td>0.450825</td>\n",
       "      <td>-0.682898</td>\n",
       "    </tr>\n",
       "    <tr>\n",
       "      <th>Rhode Island</th>\n",
       "      <td>-1.017688</td>\n",
       "      <td>0.039273</td>\n",
       "      <td>1.497632</td>\n",
       "      <td>-1.394700</td>\n",
       "    </tr>\n",
       "    <tr>\n",
       "      <th>South Carolina</th>\n",
       "      <td>1.533490</td>\n",
       "      <td>1.311999</td>\n",
       "      <td>-1.224067</td>\n",
       "      <td>0.136752</td>\n",
       "    </tr>\n",
       "    <tr>\n",
       "      <th>South Dakota</th>\n",
       "      <td>-0.924918</td>\n",
       "      <td>-1.027393</td>\n",
       "      <td>-1.433428</td>\n",
       "      <td>-0.909380</td>\n",
       "    </tr>\n",
       "    <tr>\n",
       "      <th>Tennessee</th>\n",
       "      <td>1.255179</td>\n",
       "      <td>0.208970</td>\n",
       "      <td>-0.456408</td>\n",
       "      <td>0.611287</td>\n",
       "    </tr>\n",
       "    <tr>\n",
       "      <th>Texas</th>\n",
       "      <td>1.139217</td>\n",
       "      <td>0.366545</td>\n",
       "      <td>1.009122</td>\n",
       "      <td>0.460298</td>\n",
       "    </tr>\n",
       "    <tr>\n",
       "      <th>Utah</th>\n",
       "      <td>-1.064073</td>\n",
       "      <td>-0.615272</td>\n",
       "      <td>1.009122</td>\n",
       "      <td>0.179892</td>\n",
       "    </tr>\n",
       "    <tr>\n",
       "      <th>Vermont</th>\n",
       "      <td>-1.295998</td>\n",
       "      <td>-1.487999</td>\n",
       "      <td>-2.340661</td>\n",
       "      <td>-1.081938</td>\n",
       "    </tr>\n",
       "    <tr>\n",
       "      <th>Virginia</th>\n",
       "      <td>0.165131</td>\n",
       "      <td>-0.178909</td>\n",
       "      <td>-0.177259</td>\n",
       "      <td>-0.057376</td>\n",
       "    </tr>\n",
       "    <tr>\n",
       "      <th>Washington</th>\n",
       "      <td>-0.878533</td>\n",
       "      <td>-0.312242</td>\n",
       "      <td>0.520612</td>\n",
       "      <td>0.535792</td>\n",
       "    </tr>\n",
       "    <tr>\n",
       "      <th>West Virginia</th>\n",
       "      <td>-0.484260</td>\n",
       "      <td>-1.087999</td>\n",
       "      <td>-1.852151</td>\n",
       "      <td>-1.286851</td>\n",
       "    </tr>\n",
       "    <tr>\n",
       "      <th>Wisconsin</th>\n",
       "      <td>-1.203228</td>\n",
       "      <td>-1.427393</td>\n",
       "      <td>0.032102</td>\n",
       "      <td>-1.125078</td>\n",
       "    </tr>\n",
       "    <tr>\n",
       "      <th>Wyoming</th>\n",
       "      <td>-0.229142</td>\n",
       "      <td>-0.118303</td>\n",
       "      <td>-0.386621</td>\n",
       "      <td>-0.607404</td>\n",
       "    </tr>\n",
       "  </tbody>\n",
       "</table>\n",
       "</div>"
      ],
      "text/plain": [
       "                  Murder   Assault  UrbanPop      Rape\n",
       "Alabama         1.255179  0.790787 -0.526195 -0.003451\n",
       "Alaska          0.513019  1.118060 -1.224067  2.509424\n",
       "Arizona         0.072361  1.493817  1.009122  1.053466\n",
       "Arkansas        0.234708  0.233212 -1.084492 -0.186794\n",
       "California      0.281093  1.275635  1.776781  2.088814\n",
       "Colorado        0.025976  0.402909  0.869548  1.883901\n",
       "Connecticut    -1.040880 -0.736484  0.799761 -1.092723\n",
       "Delaware       -0.437875  0.815030  0.450825 -0.585834\n",
       "Florida         1.765415  1.990786  1.009122  1.150530\n",
       "Georgia         2.229265  0.487757 -0.386621  0.492653\n",
       "Hawaii         -0.577030 -1.512241  1.218484 -0.111300\n",
       "Idaho          -1.203228 -0.615272 -0.805344 -0.758392\n",
       "Illinois        0.605789  0.948363  1.218484  0.298525\n",
       "Indiana        -0.136372 -0.700121 -0.037685 -0.025021\n",
       "Iowa           -1.295998 -1.391029 -0.595982 -1.071153\n",
       "Kansas         -0.414682 -0.675878  0.032102 -0.348567\n",
       "Kentucky        0.443441 -0.748605 -0.944918 -0.531910\n",
       "Louisiana       1.765415  0.948363  0.032102  0.104398\n",
       "Maine          -1.319191 -1.063757 -1.014705 -1.448624\n",
       "Maryland        0.814521  1.566544  0.101889  0.708350\n",
       "Massachusetts  -0.785763 -0.263757  1.358058 -0.531910\n",
       "Michigan        1.000062  1.021090  0.590399  1.495646\n",
       "Minnesota      -1.180036 -1.197090  0.032102 -0.682898\n",
       "Mississippi     1.927762  1.069575 -1.503215 -0.445631\n",
       "Missouri        0.281093  0.087757  0.311251  0.751490\n",
       "Montana        -0.414682 -0.748605 -0.875131 -0.521125\n",
       "Nebraska       -0.808955 -0.833454 -0.247047 -0.510340\n",
       "Nevada          1.023254  0.984726  1.078909  2.671197\n",
       "New Hampshire  -1.319191 -1.378908 -0.665769 -1.265281\n",
       "New Jersey     -0.089987 -0.142545  1.637207 -0.262288\n",
       "New Mexico      0.837714  1.384726  0.311251  1.172100\n",
       "New York        0.768136  1.008969  1.427845  0.525008\n",
       "North Carolina  1.208794  2.015028 -1.433428 -0.553480\n",
       "North Dakota   -1.620693 -1.524362 -1.503215 -1.502548\n",
       "Ohio           -0.113180 -0.615272  0.660186  0.018119\n",
       "Oklahoma       -0.275527 -0.239515  0.171676 -0.132870\n",
       "Oregon         -0.669800 -0.142545  0.101889  0.870123\n",
       "Pennsylvania   -0.345105 -0.784969  0.450825 -0.682898\n",
       "Rhode Island   -1.017688  0.039273  1.497632 -1.394700\n",
       "South Carolina  1.533490  1.311999 -1.224067  0.136752\n",
       "South Dakota   -0.924918 -1.027393 -1.433428 -0.909380\n",
       "Tennessee       1.255179  0.208970 -0.456408  0.611287\n",
       "Texas           1.139217  0.366545  1.009122  0.460298\n",
       "Utah           -1.064073 -0.615272  1.009122  0.179892\n",
       "Vermont        -1.295998 -1.487999 -2.340661 -1.081938\n",
       "Virginia        0.165131 -0.178909 -0.177259 -0.057376\n",
       "Washington     -0.878533 -0.312242  0.520612  0.535792\n",
       "West Virginia  -0.484260 -1.087999 -1.852151 -1.286851\n",
       "Wisconsin      -1.203228 -1.427393  0.032102 -1.125078\n",
       "Wyoming        -0.229142 -0.118303 -0.386621 -0.607404"
      ]
     },
     "execution_count": 344,
     "metadata": {},
     "output_type": "execute_result"
    }
   ],
   "source": [
    "X"
   ]
  },
  {
   "cell_type": "code",
   "execution_count": 345,
   "metadata": {},
   "outputs": [],
   "source": [
    "Z = linkage(X, 'complete')"
   ]
  },
  {
   "cell_type": "code",
   "execution_count": 346,
   "metadata": {},
   "outputs": [
    {
     "data": {
      "image/png": "[encoded data removed]",
      "text/plain": [
       "<Figure size 1800x720 with 1 Axes>"
      ]
     },
     "metadata": {},
     "output_type": "display_data"
    }
   ],
   "source": [
    "# calculate full dendrogram\n",
    "plt.figure(figsize=(25, 10))\n",
    "plt.title('Hierarchical Clustering Dendrogram')\n",
    "plt.xlabel('sample index')\n",
    "plt.ylabel('distance')\n",
    "dendrogram(\n",
    "    Z,\n",
    "    leaf_rotation=90.,  # rotates the x axis labels\n",
    "    leaf_font_size=8.,  # font size for the x axis labels\n",
    ")\n",
    "plt.show()"
   ]
  },
  {
   "cell_type": "markdown",
   "metadata": {},
   "source": [
    "(d) (5 points) What effect does scaling the variables have on the hierarchical clustering\n",
    "obtained? In your opinion, should the variables be scaled before the interobservation\n",
    "dissimilarities are computed? Provide a justification for your answer."
   ]
  },
  {
   "cell_type": "markdown",
   "metadata": {},
   "source": [
    "Scaling the variables created more clusters by seperating the states and clusters to a greater extent. In my opinion the data should be scaled so that the model can make an appropriate analysis of how each variable influences the clustering rather than being influenced by the measurement level."
   ]
  }
 ],
 "metadata": {
  "kernelspec": {
   "display_name": "Python 3",
   "language": "python",
   "name": "python3"
  },
  "language_info": {
   "codemirror_mode": {
    "name": "ipython",
    "version": 3
   },
   "file_extension": ".py",
   "mimetype": "text/x-python",
   "name": "python",
   "nbconvert_exporter": "python",
   "pygments_lexer": "ipython3",
   "version": "3.6.1"
  }
 },
 "nbformat": 4,
 "nbformat_minor": 2
}
